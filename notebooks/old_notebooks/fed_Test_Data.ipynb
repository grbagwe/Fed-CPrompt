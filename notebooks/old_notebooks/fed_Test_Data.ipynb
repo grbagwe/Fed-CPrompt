{
 "cells": [
  {
   "cell_type": "code",
   "execution_count": 1,
   "id": "330827e1",
   "metadata": {},
   "outputs": [
    {
     "name": "stderr",
     "output_type": "stream",
     "text": [
      "/home/grbagwe/miniconda3/envs/fedconlearn/lib/python3.8/site-packages/tqdm/auto.py:22: TqdmWarning: IProgress not found. Please update jupyter and ipywidgets. See https://ipywidgets.readthedocs.io/en/stable/user_install.html\n",
      "  from .autonotebook import tqdm as notebook_tqdm\n"
     ]
    }
   ],
   "source": [
    "from torch.optim import SGD\n",
    "from torch.nn import CrossEntropyLoss\n",
    "from avalanche.benchmarks.classic import SplitMNIST\n",
    "\n",
    "from avalanche.evaluation.metrics import forgetting_metrics, \\\n",
    "accuracy_metrics, loss_metrics, timing_metrics, cpu_usage_metrics, \\\n",
    "confusion_matrix_metrics, disk_usage_metrics, bwt_metrics\n",
    "from avalanche.models import SimpleMLP\n",
    "from avalanche.logging import InteractiveLogger, TextLogger, TensorboardLogger, WandBLogger\n",
    "from avalanche.training.plugins import EvaluationPlugin\n",
    "from avalanche.training import Naive,EWC\n",
    "from torchvision.transforms import Compose, ToTensor, Normalize, RandomCrop, Resize\n",
    "import numpy as np\n",
    "import random\n",
    "import wandb\n",
    "import timm\n",
    "import torch\n",
    "import avalanche"
   ]
  },
  {
   "cell_type": "code",
   "execution_count": 2,
   "id": "fbcbf6c6",
   "metadata": {},
   "outputs": [],
   "source": [
    "seed = 2023\n",
    "np.random.seed(seed)\n",
    "torch.manual_seed(seed)\n",
    "random.seed(seed)\n",
    "torch.cuda.manual_seed(seed)\n"
   ]
  },
  {
   "cell_type": "code",
   "execution_count": 20,
   "id": "3df7b6d1",
   "metadata": {},
   "outputs": [
    {
     "name": "stdout",
     "output_type": "stream",
     "text": [
      "Files already downloaded and verified\n",
      "Files already downloaded and verified\n"
     ]
    }
   ],
   "source": [
    "\n",
    "train_transform = Compose([\n",
    "    Resize(224),\n",
    "    ToTensor(),\n",
    "    Normalize(mean=[0.5, 0.5, 0.5], std=[0.5, 0.5, 0.5]),\n",
    "])\n",
    "\n",
    "test_transform = Compose([\n",
    "    Resize(224),\n",
    "    ToTensor(),\n",
    "    Normalize(mean=[0.5, 0.5, 0.5], std=[0.5, 0.5, 0.5]),\n",
    "])\n",
    "\n",
    "\n",
    "\n",
    "\n",
    "benchmark = avalanche.benchmarks.SplitCIFAR10(n_experiences=5, return_task_id=False, seed=seed, \n",
    "                       train_transform=train_transform,eval_transform = test_transform\n",
    "                      )"
   ]
  },
  {
   "cell_type": "code",
   "execution_count": 21,
   "id": "a69a00b4",
   "metadata": {},
   "outputs": [
    {
     "name": "stdout",
     "output_type": "stream",
     "text": [
      "<avalanche.benchmarks.scenarios.new_classes.nc_scenario.NCExperience object at 0x7f8e72c4b160>\n"
     ]
    }
   ],
   "source": [
    "for experience in benchmark.train_stream:\n",
    "    print(experience)\n",
    "    break"
   ]
  },
  {
   "cell_type": "code",
   "execution_count": 24,
   "id": "3e7e9cdd",
   "metadata": {},
   "outputs": [
    {
     "name": "stdout",
     "output_type": "stream",
     "text": [
      "(0, [tensor([[[ 0.2078,  0.2078,  0.2078,  ..., -0.3804, -0.3804, -0.3804],\n",
      "         [ 0.2078,  0.2078,  0.2078,  ..., -0.3804, -0.3804, -0.3804],\n",
      "         [ 0.2078,  0.2078,  0.2078,  ..., -0.3804, -0.3804, -0.3804],\n",
      "         ...,\n",
      "         [ 0.2784,  0.2784,  0.2784,  ...,  0.1216,  0.1216,  0.1216],\n",
      "         [ 0.2784,  0.2784,  0.2784,  ...,  0.1216,  0.1216,  0.1216],\n",
      "         [ 0.2784,  0.2784,  0.2784,  ...,  0.1216,  0.1216,  0.1216]],\n",
      "\n",
      "        [[ 0.3882,  0.3882,  0.3882,  ..., -0.3647, -0.3647, -0.3647],\n",
      "         [ 0.3882,  0.3882,  0.3882,  ..., -0.3647, -0.3647, -0.3647],\n",
      "         [ 0.3882,  0.3882,  0.3882,  ..., -0.3647, -0.3647, -0.3647],\n",
      "         ...,\n",
      "         [ 0.1608,  0.1608,  0.1608,  ...,  0.0431,  0.0431,  0.0431],\n",
      "         [ 0.1608,  0.1608,  0.1608,  ...,  0.0431,  0.0431,  0.0431],\n",
      "         [ 0.1608,  0.1608,  0.1608,  ...,  0.0431,  0.0431,  0.0431]],\n",
      "\n",
      "        [[ 0.4667,  0.4667,  0.4667,  ..., -0.4510, -0.4510, -0.4510],\n",
      "         [ 0.4667,  0.4667,  0.4667,  ..., -0.4510, -0.4510, -0.4510],\n",
      "         [ 0.4667,  0.4667,  0.4667,  ..., -0.4510, -0.4510, -0.4510],\n",
      "         ...,\n",
      "         [-0.0588, -0.0588, -0.0588,  ...,  0.1294,  0.1294,  0.1294],\n",
      "         [-0.0588, -0.0588, -0.0588,  ...,  0.1294,  0.1294,  0.1294],\n",
      "         [-0.0588, -0.0588, -0.0588,  ...,  0.1294,  0.1294,  0.1294]]]), 9, 0])\n",
      "(1, [tensor([[[ 1.0000,  1.0000,  1.0000,  ...,  0.9843,  0.9843,  0.9843],\n",
      "         [ 1.0000,  1.0000,  1.0000,  ...,  0.9843,  0.9843,  0.9843],\n",
      "         [ 1.0000,  1.0000,  1.0000,  ...,  0.9843,  0.9843,  0.9843],\n",
      "         ...,\n",
      "         [-0.1686, -0.1686, -0.1686,  ..., -0.3725, -0.3725, -0.3725],\n",
      "         [-0.1686, -0.1686, -0.1686,  ..., -0.3725, -0.3725, -0.3725],\n",
      "         [-0.1686, -0.1686, -0.1686,  ..., -0.3725, -0.3725, -0.3725]],\n",
      "\n",
      "        [[ 1.0000,  1.0000,  1.0000,  ...,  0.9843,  0.9843,  0.9843],\n",
      "         [ 1.0000,  1.0000,  1.0000,  ...,  0.9843,  0.9843,  0.9843],\n",
      "         [ 1.0000,  1.0000,  1.0000,  ...,  0.9843,  0.9843,  0.9843],\n",
      "         ...,\n",
      "         [-0.1137, -0.1137, -0.1137,  ..., -0.3255, -0.3255, -0.3255],\n",
      "         [-0.1137, -0.1137, -0.1137,  ..., -0.3255, -0.3255, -0.3255],\n",
      "         [-0.1137, -0.1137, -0.1137,  ..., -0.3255, -0.3255, -0.3255]],\n",
      "\n",
      "        [[ 1.0000,  1.0000,  1.0000,  ...,  0.9843,  0.9843,  0.9843],\n",
      "         [ 1.0000,  1.0000,  1.0000,  ...,  0.9843,  0.9843,  0.9843],\n",
      "         [ 1.0000,  1.0000,  1.0000,  ...,  0.9843,  0.9843,  0.9843],\n",
      "         ...,\n",
      "         [-0.1765, -0.1765, -0.1765,  ..., -0.3412, -0.3412, -0.3412],\n",
      "         [-0.1765, -0.1765, -0.1765,  ..., -0.3412, -0.3412, -0.3412],\n",
      "         [-0.1765, -0.1765, -0.1765,  ..., -0.3412, -0.3412, -0.3412]]]), 9, 0])\n",
      "(2, [tensor([[[-0.0196, -0.0196, -0.0196,  ...,  0.5843,  0.5843,  0.5843],\n",
      "         [-0.0196, -0.0196, -0.0196,  ...,  0.5843,  0.5843,  0.5843],\n",
      "         [-0.0196, -0.0196, -0.0196,  ...,  0.5843,  0.5843,  0.5843],\n",
      "         ...,\n",
      "         [-0.1765, -0.1765, -0.1765,  ...,  0.1294,  0.1294,  0.1294],\n",
      "         [-0.1765, -0.1765, -0.1765,  ...,  0.1294,  0.1294,  0.1294],\n",
      "         [-0.1765, -0.1765, -0.1765,  ...,  0.1294,  0.1294,  0.1294]],\n",
      "\n",
      "        [[-0.0196, -0.0196, -0.0196,  ...,  0.6314,  0.6314,  0.6314],\n",
      "         [-0.0196, -0.0196, -0.0196,  ...,  0.6314,  0.6314,  0.6314],\n",
      "         [-0.0196, -0.0196, -0.0196,  ...,  0.6314,  0.6314,  0.6314],\n",
      "         ...,\n",
      "         [-0.3490, -0.3490, -0.3490,  ..., -0.0902, -0.0902, -0.0902],\n",
      "         [-0.3490, -0.3490, -0.3490,  ..., -0.0902, -0.0902, -0.0902],\n",
      "         [-0.3490, -0.3490, -0.3490,  ..., -0.0902, -0.0902, -0.0902]],\n",
      "\n",
      "        [[-0.0902, -0.0902, -0.0902,  ...,  0.6784,  0.6784,  0.6784],\n",
      "         [-0.0902, -0.0902, -0.0902,  ...,  0.6784,  0.6784,  0.6784],\n",
      "         [-0.0902, -0.0902, -0.0902,  ...,  0.6784,  0.6784,  0.6784],\n",
      "         ...,\n",
      "         [-0.6706, -0.6706, -0.6706,  ..., -0.3255, -0.3255, -0.3255],\n",
      "         [-0.6706, -0.6706, -0.6706,  ..., -0.3255, -0.3255, -0.3255],\n",
      "         [-0.6706, -0.6706, -0.6706,  ..., -0.3255, -0.3255, -0.3255]]]), 3, 0])\n"
     ]
    }
   ],
   "source": [
    "for i in enumerate(experience.dataset):\n",
    "    \n",
    "    print(i)\n",
    "    if i[0] == 2:\n",
    "        break\n",
    "    "
   ]
  },
  {
   "cell_type": "code",
   "execution_count": 26,
   "id": "20e7e534",
   "metadata": {},
   "outputs": [
    {
     "data": {
      "text/plain": [
       "<avalanche.benchmarks.scenarios.classification_scenario.ClassificationStream at 0x7f8e72ccdb20>"
      ]
     },
     "execution_count": 26,
     "metadata": {},
     "output_type": "execute_result"
    }
   ],
   "source": [
    "experience.origin_stream"
   ]
  },
  {
   "cell_type": "code",
   "execution_count": null,
   "id": "274da27c",
   "metadata": {},
   "outputs": [],
   "source": []
  }
 ],
 "metadata": {
  "kernelspec": {
   "display_name": "Python [conda env:fedconlearn] *",
   "language": "python",
   "name": "conda-env-fedconlearn-py"
  },
  "language_info": {
   "codemirror_mode": {
    "name": "ipython",
    "version": 3
   },
   "file_extension": ".py",
   "mimetype": "text/x-python",
   "name": "python",
   "nbconvert_exporter": "python",
   "pygments_lexer": "ipython3",
   "version": "3.8.15"
  }
 },
 "nbformat": 4,
 "nbformat_minor": 5
}

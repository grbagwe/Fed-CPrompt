{
 "cells": [
  {
   "cell_type": "code",
   "execution_count": null,
   "id": "b34a6ec5",
   "metadata": {},
   "outputs": [],
   "source": [
    "from torch.optim import SGD\n",
    "from torch.nn import CrossEntropyLoss\n",
    "from avalanche.benchmarks.classic import SplitMNIST\n",
    "\n",
    "from avalanche.evaluation.metrics import forgetting_metrics, \\\n",
    "accuracy_metrics, loss_metrics, timing_metrics, cpu_usage_metrics, \\\n",
    "confusion_matrix_metrics, disk_usage_metrics, bwt_metrics\n",
    "from avalanche.models import SimpleMLP\n",
    "from avalanche.logging import InteractiveLogger, TextLogger, TensorboardLogger, WandBLogger\n",
    "from avalanche.training.plugins import EvaluationPlugin\n",
    "from avalanche.training import Naive,EWC\n",
    "from torchvision.transforms import Compose, ToTensor, Normalize, RandomCrop, Resize\n",
    "import numpy as np\n",
    "import random\n",
    "import wandb\n",
    "import timm\n",
    "import torch\n",
    "import avalanche"
   ]
  },
  {
   "cell_type": "code",
   "execution_count": null,
   "id": "9c1e0cfe",
   "metadata": {},
   "outputs": [],
   "source": [
    "seed = 2023\n",
    "np.random.seed(seed)\n",
    "torch.manual_seed(seed)\n",
    "random.seed(seed)\n",
    "torch.cuda.manual_seed(seed)\n"
   ]
  },
  {
   "cell_type": "code",
   "execution_count": null,
   "id": "b586c65f",
   "metadata": {},
   "outputs": [],
   "source": [
    "\n",
    "train_transform = Compose([\n",
    "    Resize(224),\n",
    "    ToTensor(),\n",
    "])\n",
    "\n",
    "test_transform = Compose([\n",
    "    Resize(224),\n",
    "    ToTensor(),\n",
    "])\n",
    "\n",
    "\n",
    "benchmark = avalanche.benchmarks.SplitCIFAR100(n_experiences=10, return_task_id=False, seed=seed, \n",
    "                       train_transform=train_transform,eval_transform = test_transform\n",
    "                      )"
   ]
  },
  {
   "cell_type": "code",
   "execution_count": null,
   "id": "9225d689",
   "metadata": {},
   "outputs": [],
   "source": [
    "benchmark.original_classes_in_exp"
   ]
  },
  {
   "cell_type": "code",
   "execution_count": null,
   "id": "38e5109e",
   "metadata": {},
   "outputs": [],
   "source": [
    "benchmark.get_reproducibility_data()"
   ]
  },
  {
   "cell_type": "code",
   "execution_count": null,
   "id": "028bf4f5",
   "metadata": {},
   "outputs": [],
   "source": [
    "model = timm.models.vit_base_patch16_224(pretrained=True, num_classes=benchmark.n_classes)\n",
    "model = torch.nn.DataParallel(model)"
   ]
  },
  {
   "cell_type": "code",
   "execution_count": null,
   "id": "38245ed8",
   "metadata": {},
   "outputs": [],
   "source": [
    "model"
   ]
  },
  {
   "cell_type": "code",
   "execution_count": null,
   "id": "6a25b8b3",
   "metadata": {
    "scrolled": true
   },
   "outputs": [],
   "source": [
    "# loggers \n",
    "loggers = []\n",
    "\n",
    "# log to Tensorboard\n",
    "loggers.append(TensorboardLogger())\n",
    "\n",
    "# log to text file\n",
    "loggers.append(TextLogger(open('log.txt', 'a')))\n",
    "\n",
    "# print to stdout\n",
    "loggers.append(InteractiveLogger())\n",
    "\n",
    "# W&B logger - comment this if you don't have a W&B account\n",
    "loggers.append(WandBLogger(project_name=\"avalanche\", run_name=\"ewc-SplitCifar100-Vit\"))\n",
    "\n",
    "eval_plugin = EvaluationPlugin(\n",
    "    accuracy_metrics(minibatch=True, epoch=True, experience=True, stream=True),\n",
    "    loss_metrics(minibatch=True, epoch=True, experience=True, stream=True),\n",
    "#     timing_metrics(epoch=True, epoch_running=True),\n",
    "#     cpu_usage_metrics(experience=True),\n",
    "    forgetting_metrics(experience=True, stream=True),\n",
    "    bwt_metrics(experience=True, stream=True),\n",
    "    confusion_matrix_metrics(num_classes=benchmark.n_classes, save_image=True,\n",
    "                             stream=True),\n",
    "#     disk_usage_metrics(minibatch=True, epoch=True, experience=True, stream=True),\n",
    "    loggers=loggers\n",
    ")\n"
   ]
  },
  {
   "cell_type": "code",
   "execution_count": null,
   "id": "8ee290fa",
   "metadata": {},
   "outputs": [],
   "source": [
    "# CREATE THE STRATEGY INSTANCE (EWC)\n",
    "cl_strategy = EWC(\n",
    "    model,\n",
    "    optimizer= torch.optim.Adam(model.parameters(), lr=0.001),\n",
    "    criterion=CrossEntropyLoss(),\n",
    "    ewc_lambda=0.4,\n",
    "    train_mb_size=50, train_epochs=10,\n",
    "    eval_mb_size=50,device='cuda',\n",
    "    evaluator=eval_plugin)"
   ]
  },
  {
   "cell_type": "code",
   "execution_count": null,
   "id": "e7c52f9d",
   "metadata": {},
   "outputs": [],
   "source": [
    "# TRAINING LOOP\n",
    "print('Starting experiment...')\n",
    "results = []\n",
    "for experience in benchmark.train_stream:\n",
    "    print(\"Start training on experience \", experience.current_experience)\n",
    "\n",
    "    cl_strategy.train(experience)\n",
    "    print(\"End training on experience\", experience.current_experience)\n",
    "    print(\"Computing accuracy on the test set\")\n",
    "    results.append(cl_strategy.eval(benchmark.test_stream[:]))\n",
    "        \n",
    "        \n",
    "# for experience in benchmark.train_stream:\n",
    "#     # train returns a dictionary which contains all the metric values\n",
    "#     res = cl_strategy.train(experience)\n",
    "#     print('Training completed')\n",
    "\n",
    "#     print('Computing accuracy on the whole test set')\n",
    "    # test also returns a dictionary which contains all the metric values\n",
    "#     results.append(cl_strategy.eval(benchmark.test_stream))\n",
    "    \n"
   ]
  },
  {
   "cell_type": "code",
   "execution_count": null,
   "id": "73b16565",
   "metadata": {},
   "outputs": [],
   "source": [
    "import wandb\n",
    "wandb.finish()"
   ]
  },
  {
   "cell_type": "code",
   "execution_count": null,
   "id": "2d8fc823",
   "metadata": {},
   "outputs": [],
   "source": []
  }
 ],
 "metadata": {
  "kernelspec": {
   "display_name": "Python [conda env:fedconlearn] *",
   "language": "python",
   "name": "conda-env-fedconlearn-py"
  },
  "language_info": {
   "codemirror_mode": {
    "name": "ipython",
    "version": 3
   },
   "file_extension": ".py",
   "mimetype": "text/x-python",
   "name": "python",
   "nbconvert_exporter": "python",
   "pygments_lexer": "ipython3",
   "version": "3.8.15"
  }
 },
 "nbformat": 4,
 "nbformat_minor": 5
}

{
 "cells": [
  {
   "cell_type": "code",
   "execution_count": null,
   "id": "f3d80eef",
   "metadata": {},
   "outputs": [],
   "source": [
    "import os, sys\n",
    "# module_path = os.path.abspath(os.path.join('../../Prompt-based-class-incremental-learning-in-Federated-Learning/CODA_Prompt_CVPR2023_Code/'))\n",
    "module_path = os.path.abspath(os.path.join('..'))\n",
    "if module_path not in sys.path:\n",
    "    sys.path.append(module_path)\n",
    "import torch, torchvision, numpy as np\n",
    "from dataloaders import dataloader\n",
    "from dataloaders.dataloader import iCIFAR100_Fed\n",
    "import random\n",
    "import dataloaders"
   ]
  },
  {
   "cell_type": "code",
   "execution_count": null,
   "id": "4784cdce",
   "metadata": {},
   "outputs": [],
   "source": [
    "seed = 2023\n",
    "np.random.seed(seed)\n",
    "torch.manual_seed(seed)\n",
    "random.seed(seed)\n",
    "torch.cuda.manual_seed(seed)"
   ]
  },
  {
   "cell_type": "code",
   "execution_count": null,
   "id": "f057e8de",
   "metadata": {},
   "outputs": [],
   "source": [
    "# !pip install fairscale\n",
    "from models.vit_coda_p import vit_pt_imnet\n",
    "import models\n",
    "from models import  vit_coda_p\n"
   ]
  },
  {
   "cell_type": "code",
   "execution_count": null,
   "id": "21ef91a7",
   "metadata": {},
   "outputs": [],
   "source": [
    "prompt_params = [10, [100, 8, 0 ,0 ,0]]\n",
    "\n",
    "dual_prompt_params  = [10, [10, 20, 6]]"
   ]
  },
  {
   "cell_type": "code",
   "execution_count": null,
   "id": "773e92ba",
   "metadata": {},
   "outputs": [],
   "source": [
    "model_codap = vit_pt_imnet(out_dim=100, prompt_flag = 'codap', prompt_param=prompt_params)\n",
    "# model_dual = vit_pt_imnet(out_dim=100, prompt_flag = 'dual', prompt_param=dual_prompt_params)\n",
    "# model_l2p = vit_coda_p.vit_pt_imnet(out_dim=100, prompt_flag = 'l2p', prompt_param=prompt_params)\n",
    "# model_base = vit_pt_imnet(out_dim=100, prompt_flag = \"None\", prompt_param=None)"
   ]
  },
  {
   "cell_type": "code",
   "execution_count": null,
   "id": "d49541cf",
   "metadata": {},
   "outputs": [],
   "source": [
    "model_codap = torch.nn.DataParallel(model_codap)\n",
    "model_codap.cuda()\n",
    "# for key, param in model_codap.named_parameters():\n",
    "#     if 'module.prompt.e_p_0' in key: \n",
    "#         print(key, param)"
   ]
  },
  {
   "cell_type": "code",
   "execution_count": null,
   "id": "db8af0c2",
   "metadata": {},
   "outputs": [],
   "source": [
    "# load data\n",
    "tasks = []\n",
    "tasks_logits = []\n",
    "p = 0\n",
    "max_task = -1\n",
    "other_split_size = 10 \n",
    "first_split_size = 10 \n",
    "num_classes = 100 \n",
    "class_order = np.arange(num_classes).tolist()\n",
    "class_order_logits = np.arange(num_classes).tolist()\n",
    "rand_split = True\n",
    "\n",
    "if seed > 0 and rand_split:\n",
    "    print('=============================================')\n",
    "    print('Shuffling....')\n",
    "    print('pre-shuffle:' + str(class_order))\n",
    "    random.seed(seed)\n",
    "    random.shuffle(class_order)\n",
    "    print('post-shuffle:' + str(class_order))\n",
    "    print('=============================================')\n",
    "            \n",
    "            \n",
    "while p < num_classes and (max_task == -1 or len(tasks) < max_task):\n",
    "    inc = other_split_size if p > 0 else first_split_size\n",
    "    tasks.append(class_order[p:p + inc])\n",
    "    tasks_logits.append(class_order_logits[p:p + inc])\n",
    "    p += inc\n",
    "num_tasks = len(tasks)\n",
    "task_names = [str(i + 1) for i in range(num_tasks)]\n",
    "train_transform = dataloaders.utils.get_transform(dataset='CIFAR100_Fed', phase='train', aug=True,\n",
    "                                                          resize_imnet=True)\n",
    "\n",
    "# train = iCIFAR100_Fed(root='./data', train=True, transform=torchvision.transforms.ToTensor())\n",
    "train_dataset = dataloader.iCIFAR100_Fed(root= \"data\", train = True, transform=train_transform,\n",
    "                                         num_clients = 10,\n",
    "                                         iid  = 0, \n",
    "                                        download_Flag = True,\n",
    "                                        validation=False,\n",
    "                                         tasks=tasks, seed=0\n",
    "                                        )\n"
   ]
  },
  {
   "cell_type": "code",
   "execution_count": null,
   "id": "1d3dca36",
   "metadata": {},
   "outputs": [],
   "source": [
    "st1 = torch.load(\"/data/gaurav/Projects/promptFCL/_outputs/ICCV/CIFAR100/10-task/fedMoon1/vit/coda-iid_fedMoon_1/models/repeat-1/task-1/class.pth\")\n",
    "st2 = torch.load(\"/data/gaurav/Projects/promptFCL/_outputs/ICCV/CIFAR100/10-task/fedMoon1/vit/coda-iid_fedMoon_1/models/repeat-1/task-2/class.pth\")\n",
    "st3 = torch.load(\"/data/gaurav/Projects/promptFCL/_outputs/ICCV/CIFAR100/10-task/fedMoon1/vit/coda-iid_fedMoon_1/models/repeat-1/task-3/class.pth\")\n"
   ]
  },
  {
   "cell_type": "code",
   "execution_count": null,
   "id": "c18047e5",
   "metadata": {},
   "outputs": [],
   "source": [
    "import copy\n",
    "model1 = copy.deepcopy(model_codap)\n",
    "model2 = copy.deepcopy(model_codap)\n",
    "model3 = copy.deepcopy(model_codap)\n",
    "# model1 = torch.nn.DataParallel(model1)\n",
    "# model2 = torch.nn.DataParallel(model2)\n",
    "# model1.cuda(), model2.cuda()\n",
    "model1.cuda()\n",
    "model2.cuda()\n",
    "model3.cuda()\n",
    "\n",
    "model1.load_state_dict(st1)\n",
    "model2.load_state_dict(st2)\n",
    "model3.load_state_dict(st3)\n"
   ]
  },
  {
   "cell_type": "code",
   "execution_count": null,
   "id": "8b1213a1",
   "metadata": {},
   "outputs": [],
   "source": [
    "class TripletLoss(torch.nn.Module):\n",
    "    def __init__(self, margin=1.0):\n",
    "        super(TripletLoss, self).__init__()\n",
    "        self.margin = margin\n",
    "\n",
    "    def forward(self, anchor, positive, negative):\n",
    "        distance_positive = (anchor - positive).pow(2).sum(1)\n",
    "        distance_negative = (anchor - negative).pow(2).sum(1)\n",
    "        losses = torch.relu(distance_positive - distance_negative + self.margin)\n",
    "        return losses.mean()"
   ]
  },
  {
   "cell_type": "code",
   "execution_count": null,
   "id": "6e4fabf8",
   "metadata": {},
   "outputs": [],
   "source": [
    "# img train_dataset[0][0]\n",
    "img = train_dataset.data[0]\n",
    "img.shape"
   ]
  },
  {
   "cell_type": "code",
   "execution_count": null,
   "id": "34839010",
   "metadata": {},
   "outputs": [],
   "source": [
    "train_dataset.load_dataset(t=2, train=True,client=2)\n",
    "trian_loader = torch.utils.data.DataLoader(train_dataset, batch_size=128, shuffle=True, num_workers=0)"
   ]
  },
  {
   "cell_type": "code",
   "execution_count": null,
   "id": "aaa47112",
   "metadata": {},
   "outputs": [],
   "source": [
    "# train_loader1 = next(iter(trian_loader))\n",
    "\n"
   ]
  },
  {
   "cell_type": "code",
   "execution_count": null,
   "id": "4828373c",
   "metadata": {},
   "outputs": [],
   "source": [
    "# imgs = train_loader1[0].cuda()\n",
    "# labels = train_loader1[1].cuda()\n",
    "# imgs.shape, labels.shape\n"
   ]
  },
  {
   "cell_type": "code",
   "execution_count": null,
   "id": "de184cfb",
   "metadata": {},
   "outputs": [],
   "source": [
    "optimizer = torch.optim.Adam(model2.parameters(), lr=0.0001)\n",
    "from tqdm import tqdm\n",
    "# ce loss\n",
    "criterion = torch.nn.CrossEntropyLoss()\n",
    "model_base = model2 \n",
    "# use tqdm for progress bar\n",
    "for epoch in tqdm(range(10)):\n",
    "    # accuracy\n",
    "    correct = 0\n",
    "    total = 0\n",
    "\n",
    "    for batch_idx, (data, target) in enumerate(trian_loader):\n",
    "        data, target = data.cuda(), target.cuda()\n",
    "        a1, _, anchor = model2(data, train = True)\n",
    "        with torch.no_grad():\n",
    "            a2, _, positive = model_base(data, train = True)\n",
    "            a3, _, negative = model1(data, train = True)\n",
    "        loss = TripletLoss()(anchor, positive, negative)\n",
    "        ce_loss = criterion(a1, target)\n",
    "        total_loss = loss + ce_loss\n",
    "\n",
    "        # accuracy\n",
    "        _, predicted = torch.max(a1.data, 1)\n",
    "        total += target.size(0)\n",
    "        correct += (predicted == target).sum().item()\n",
    "\n",
    "        \n",
    "\n",
    "        # \n",
    "        # tqdm.write(str(epoch) + '/' + str(10) + str(batch_idx) + str(loss))\n",
    "        # print(epoch , '/', 10 , batch_idx, loss)\n",
    "        optimizer.zero_grad()\n",
    "        total_loss.backward()\n",
    "        optimizer.step()\n",
    "    print(epoch, loss, ce_loss, total_loss)\n",
    "    print('Accuracy: %.2f %%' % (100 * correct / total))\n",
    "    print('=============================================')\n",
    "\n",
    "\n"
   ]
  },
  {
   "cell_type": "code",
   "execution_count": null,
   "id": "62410729",
   "metadata": {},
   "outputs": [],
   "source": [
    "model2.state_dict()['module.prompt.e_p_0']"
   ]
  },
  {
   "cell_type": "code",
   "execution_count": null,
   "id": "8ec41697",
   "metadata": {},
   "outputs": [],
   "source": [
    "st2['module.prompt.e_p_0']"
   ]
  },
  {
   "cell_type": "code",
   "execution_count": null,
   "id": "80a2b42f",
   "metadata": {},
   "outputs": [],
   "source": [
    "len(anchor), len(positive), len(negative), len(a1), len(a2), len(a3)"
   ]
  },
  {
   "cell_type": "code",
   "execution_count": null,
   "id": "45372b57",
   "metadata": {},
   "outputs": [],
   "source": [
    "c2l = TripletLoss() \n",
    "# for i in range(128):\n",
    "#     loss = c2l(anchor[i], positive[i], negative[i])\n",
    "#     print(loss)\n",
    "loss = c2l(e1, e2, e3)\n",
    "loss.mean()"
   ]
  },
  {
   "cell_type": "code",
   "execution_count": null,
   "id": "774e17c0",
   "metadata": {},
   "outputs": [],
   "source": [
    "e1 = st1['module.prompt.e_p_0']\n",
    "e2 = st2['module.prompt.e_p_0']\n",
    "e3 = st3['module.prompt.e_p_0']\n",
    "e1.shape, e2.shape, e3.shape"
   ]
  },
  {
   "cell_type": "code",
   "execution_count": null,
   "id": "6452708a",
   "metadata": {},
   "outputs": [],
   "source": [
    "# e1-e2 , e1-e3"
   ]
  },
  {
   "cell_type": "code",
   "execution_count": null,
   "id": "a621d9f6",
   "metadata": {},
   "outputs": [],
   "source": [
    "cos = torch.nn.CosineSimilarity(dim=1, eps=1e-6)\n",
    "cos((e1 -e2), (e1- e3)).mean()"
   ]
  },
  {
   "cell_type": "code",
   "execution_count": null,
   "id": "25ff5cd3",
   "metadata": {},
   "outputs": [],
   "source": [
    "posi = cos(logits1, logits3)\n",
    "nega = cos(logits1, logits2)\n",
    "numerator = torch.exp(posi/tau)\n",
    "denominator = torch.exp(posi/tau) + torch.exp(nega/tau)\n",
    "fedmoonLoss = -torch.log(numerator/denominator)"
   ]
  },
  {
   "cell_type": "code",
   "execution_count": null,
   "id": "fccb6c93",
   "metadata": {},
   "outputs": [],
   "source": [
    "fedmoonLoss"
   ]
  },
  {
   "cell_type": "code",
   "execution_count": null,
   "id": "12f3be0b",
   "metadata": {},
   "outputs": [],
   "source": [
    "model_codap = torch.nn.DataParallel(model_codap)\n",
    "model_codap = model_codap.cuda()"
   ]
  },
  {
   "cell_type": "code",
   "execution_count": null,
   "id": "5ebf8122",
   "metadata": {},
   "outputs": [],
   "source": [
    "import copy\n",
    "m1 = copy.deepcopy(model_codap) #.load_state_dict(st1)\n",
    "m2 = copy.deepcopy(model_codap) #.load_state_dict(st2)"
   ]
  },
  {
   "cell_type": "code",
   "execution_count": null,
   "id": "591a4e13",
   "metadata": {},
   "outputs": [],
   "source": [
    "m1.load_state_dict(st1)\n",
    "m2.load_state_dict(st2)"
   ]
  },
  {
   "cell_type": "code",
   "execution_count": null,
   "id": "66bbee60",
   "metadata": {},
   "outputs": [],
   "source": [
    "for i in range(100):\n",
    "     a= model2.state_dict()['module.prompt.e_p_0'][i] - model1.state_dict()['module.prompt.e_p_0'][i]\n",
    "     print( i , torch.sum(a))\n",
    "     "
   ]
  },
  {
   "cell_type": "code",
   "execution_count": null,
   "id": "7c69f7e6",
   "metadata": {},
   "outputs": [],
   "source": [
    "# model2.state_dict()['module.prompt.e_p_0']"
   ]
  },
  {
   "cell_type": "code",
   "execution_count": null,
   "id": "a722c572",
   "metadata": {},
   "outputs": [],
   "source": []
  }
 ],
 "metadata": {
  "kernelspec": {
   "display_name": "promptFCL",
   "language": "python",
   "name": "python3"
  },
  "language_info": {
   "codemirror_mode": {
    "name": "ipython",
    "version": 3
   },
   "file_extension": ".py",
   "mimetype": "text/x-python",
   "name": "python",
   "nbconvert_exporter": "python",
   "pygments_lexer": "ipython3",
   "version": "3.10.9"
  },
  "vscode": {
   "interpreter": {
    "hash": "706466e2cd6ba47dc72a23aff5b4b412fa3e343d00dce46686a6ac93eab9d9be"
   }
  }
 },
 "nbformat": 4,
 "nbformat_minor": 5
}

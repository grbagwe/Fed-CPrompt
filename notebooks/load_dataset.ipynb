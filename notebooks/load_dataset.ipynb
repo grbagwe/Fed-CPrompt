{
 "cells": [
  {
   "cell_type": "code",
   "execution_count": 1,
   "id": "475ad4f5",
   "metadata": {},
   "outputs": [
    {
     "name": "stderr",
     "output_type": "stream",
     "text": [
      "/home/grbagwe/miniconda3/envs/promptFCL/lib/python3.10/site-packages/tqdm/auto.py:22: TqdmWarning: IProgress not found. Please update jupyter and ipywidgets. See https://ipywidgets.readthedocs.io/en/stable/user_install.html\n",
      "  from .autonotebook import tqdm as notebook_tqdm\n"
     ]
    }
   ],
   "source": [
    "import os, sys\n",
    "# module_path = os.path.abspath(os.path.join('../../Prompt-based-class-incremental-learning-in-Federated-Learning/CODA_Prompt_CVPR2023_Code/'))\n",
    "module_path = os.path.abspath(os.path.join('..'))\n",
    "\n",
    "if module_path not in sys.path:\n",
    "    sys.path.append(module_path)\n",
    "import torch, torchvision, numpy as np\n",
    "from dataloaders import dataloader\n",
    "from dataloaders.dataloader import iCIFAR100_Fed\n",
    "import random"
   ]
  },
  {
   "cell_type": "code",
   "execution_count": 2,
   "id": "4bbfea8f",
   "metadata": {},
   "outputs": [],
   "source": [
    "seed = 2023\n",
    "np.random.seed(seed)\n",
    "torch.manual_seed(seed)\n",
    "random.seed(seed)\n",
    "torch.cuda.manual_seed(seed)"
   ]
  },
  {
   "cell_type": "code",
   "execution_count": 3,
   "id": "d5bc0188",
   "metadata": {
    "scrolled": true
   },
   "outputs": [
    {
     "name": "stdout",
     "output_type": "stream",
     "text": [
      "=============================================\n",
      "Shuffling....\n",
      "pre-shuffle:[0, 1, 2, 3, 4, 5, 6, 7, 8, 9, 10, 11, 12, 13, 14, 15, 16, 17, 18, 19, 20, 21, 22, 23, 24, 25, 26, 27, 28, 29, 30, 31, 32, 33, 34, 35, 36, 37, 38, 39, 40, 41, 42, 43, 44, 45, 46, 47, 48, 49, 50, 51, 52, 53, 54, 55, 56, 57, 58, 59, 60, 61, 62, 63, 64, 65, 66, 67, 68, 69, 70, 71, 72, 73, 74, 75, 76, 77, 78, 79, 80, 81, 82, 83, 84, 85, 86, 87, 88, 89, 90, 91, 92, 93, 94, 95, 96, 97, 98, 99]\n",
      "post-shuffle:[20, 79, 93, 54, 52, 65, 0, 1, 48, 74, 44, 82, 35, 69, 91, 42, 33, 14, 5, 62, 32, 55, 96, 10, 21, 31, 90, 27, 28, 76, 80, 71, 66, 58, 23, 70, 60, 72, 17, 18, 45, 34, 11, 56, 84, 13, 41, 30, 24, 85, 51, 75, 37, 6, 53, 94, 95, 39, 47, 98, 36, 7, 50, 3, 63, 59, 9, 77, 64, 92, 86, 97, 61, 19, 25, 4, 16, 8, 46, 26, 2, 88, 29, 22, 87, 67, 68, 38, 83, 15, 12, 81, 43, 73, 78, 40, 99, 57, 89, 49]\n",
      "=============================================\n"
     ]
    }
   ],
   "source": [
    "tasks = []\n",
    "tasks_logits = []\n",
    "p = 0\n",
    "max_task = -1\n",
    "other_split_size = 10 \n",
    "first_split_size = 10 \n",
    "num_classes = 100 \n",
    "class_order = np.arange(num_classes).tolist()\n",
    "class_order_logits = np.arange(num_classes).tolist()\n",
    "rand_split = True\n",
    "\n",
    "if seed > 0 and rand_split:\n",
    "    print('=============================================')\n",
    "    print('Shuffling....')\n",
    "    print('pre-shuffle:' + str(class_order))\n",
    "    random.seed(seed)\n",
    "    random.shuffle(class_order)\n",
    "    print('post-shuffle:' + str(class_order))\n",
    "    print('=============================================')\n",
    "            \n",
    "            \n",
    "while p < num_classes and (max_task == -1 or len(tasks) < max_task):\n",
    "    inc = other_split_size if p > 0 else first_split_size\n",
    "    tasks.append(class_order[p:p + inc])\n",
    "    tasks_logits.append(class_order_logits[p:p + inc])\n",
    "    p += inc\n",
    "num_tasks = len(tasks)\n",
    "task_names = [str(i + 1) for i in range(num_tasks)]\n"
   ]
  },
  {
   "cell_type": "code",
   "execution_count": 4,
   "id": "4f1a66ea",
   "metadata": {},
   "outputs": [
    {
     "data": {
      "text/plain": [
       "[[20, 79, 93, 54, 52, 65, 0, 1, 48, 74],\n",
       " [44, 82, 35, 69, 91, 42, 33, 14, 5, 62],\n",
       " [32, 55, 96, 10, 21, 31, 90, 27, 28, 76],\n",
       " [80, 71, 66, 58, 23, 70, 60, 72, 17, 18],\n",
       " [45, 34, 11, 56, 84, 13, 41, 30, 24, 85],\n",
       " [51, 75, 37, 6, 53, 94, 95, 39, 47, 98],\n",
       " [36, 7, 50, 3, 63, 59, 9, 77, 64, 92],\n",
       " [86, 97, 61, 19, 25, 4, 16, 8, 46, 26],\n",
       " [2, 88, 29, 22, 87, 67, 68, 38, 83, 15],\n",
       " [12, 81, 43, 73, 78, 40, 99, 57, 89, 49]]"
      ]
     },
     "execution_count": 4,
     "metadata": {},
     "output_type": "execute_result"
    }
   ],
   "source": [
    "tasks"
   ]
  },
  {
   "cell_type": "code",
   "execution_count": 7,
   "id": "30ddfd22",
   "metadata": {},
   "outputs": [
    {
     "name": "stdout",
     "output_type": "stream",
     "text": [
      "Files already downloaded and verified\n",
      "Validation is true\n",
      "Files already downloaded and verified\n",
      "Files already downloaded and verified\n"
     ]
    }
   ],
   "source": [
    "val_dataset = dataloader.iCIFAR100_Fed(root= \"data\", train = False,\n",
    "                                         num_clients = 10,\n",
    "                                         iid  = 0, \n",
    "                                        download_Flag = True,\n",
    "                                        validation=True,\n",
    "                                         tasks=tasks, seed=0\n",
    "                                        )\n",
    "train_dataset = dataloader.iCIFAR100_Fed(root= \"data\", train = True,\n",
    "                                         num_clients = 10,\n",
    "                                         iid  = 0, \n",
    "                                        download_Flag = True,\n",
    "                                        validation=False,\n",
    "                                         tasks=tasks, seed=0\n",
    "                                        )\n",
    "\n",
    "test_dataset = dataloader.iCIFAR100_Fed(root= \"data\", train = False,\n",
    "                                         num_clients = 10,\n",
    "                                         iid  = 0, \n",
    "                                        download_Flag = True,\n",
    "                                        validation=False,\n",
    "                                         tasks=tasks, seed=0\n",
    "                                        )"
   ]
  },
  {
   "cell_type": "code",
   "execution_count": 8,
   "id": "a803c1ad",
   "metadata": {},
   "outputs": [
    {
     "data": {
      "text/plain": [
       "((45000, 32, 32, 3), (5000, 32, 32, 3), (10000, 32, 32, 3))"
      ]
     },
     "execution_count": 8,
     "metadata": {},
     "output_type": "execute_result"
    }
   ],
   "source": [
    "train_dataset.data.shape, val_dataset.data.shape, test_dataset.data.shape"
   ]
  },
  {
   "cell_type": "code",
   "execution_count": 7,
   "id": "bc277c41",
   "metadata": {},
   "outputs": [
    {
     "name": "stdout",
     "output_type": "stream",
     "text": [
      "targets in dataloader [ 4  8 16 19 25 26 46 61 86 97]\n"
     ]
    }
   ],
   "source": [
    "train_dataset.load_dataset(t= 7, client=-1)"
   ]
  },
  {
   "cell_type": "code",
   "execution_count": 8,
   "id": "a37cd4a6",
   "metadata": {},
   "outputs": [
    {
     "data": {
      "text/plain": [
       "479"
      ]
     },
     "execution_count": 8,
     "metadata": {},
     "output_type": "execute_result"
    }
   ],
   "source": [
    "len(train_dataset.targets)"
   ]
  },
  {
   "cell_type": "code",
   "execution_count": 18,
   "id": "4497a9ad",
   "metadata": {},
   "outputs": [
    {
     "name": "stdout",
     "output_type": "stream",
     "text": [
      "targets in dataloader [ 0  1 20 48 52 54 65 74 79 93]\n"
     ]
    }
   ],
   "source": [
    "test_dataset.load_dataset(t = 0, client=-1)"
   ]
  },
  {
   "cell_type": "code",
   "execution_count": 19,
   "id": "11b0e400",
   "metadata": {},
   "outputs": [
    {
     "data": {
      "text/plain": [
       "1000"
      ]
     },
     "execution_count": 19,
     "metadata": {},
     "output_type": "execute_result"
    }
   ],
   "source": [
    "len(test_dataset.targets)"
   ]
  },
  {
   "cell_type": "code",
   "execution_count": 20,
   "id": "1e49114c",
   "metadata": {},
   "outputs": [
    {
     "data": {
      "text/plain": [
       "1000"
      ]
     },
     "execution_count": 20,
     "metadata": {},
     "output_type": "execute_result"
    }
   ],
   "source": [
    "len(test_dataset.targets)"
   ]
  },
  {
   "cell_type": "code",
   "execution_count": 21,
   "id": "7e0616aa",
   "metadata": {},
   "outputs": [
    {
     "data": {
      "text/plain": [
       "8"
      ]
     },
     "execution_count": 21,
     "metadata": {},
     "output_type": "execute_result"
    }
   ],
   "source": [
    "train_dataset.targets[0]"
   ]
  },
  {
   "cell_type": "code",
   "execution_count": 22,
   "id": "9f1dd44c",
   "metadata": {},
   "outputs": [],
   "source": [
    "import matplotlib.pyplot as plt"
   ]
  },
  {
   "cell_type": "code",
   "execution_count": 23,
   "id": "163d84e0",
   "metadata": {},
   "outputs": [
    {
     "data": {
      "text/plain": [
       "<matplotlib.image.AxesImage at 0x7f5ac1382290>"
      ]
     },
     "execution_count": 23,
     "metadata": {},
     "output_type": "execute_result"
    },
    {
     "data": {
      "image/png": "[encoded data removed]",
      "text/plain": [
       "<Figure size 640x480 with 1 Axes>"
      ]
     },
     "metadata": {},
     "output_type": "display_data"
    }
   ],
   "source": [
    "plt.imshow(train_dataset.data[0])"
   ]
  },
  {
   "cell_type": "code",
   "execution_count": 24,
   "id": "ffe70af4",
   "metadata": {},
   "outputs": [
    {
     "data": {
      "text/plain": [
       "{'apple': 0,\n",
       " 'aquarium_fish': 1,\n",
       " 'baby': 2,\n",
       " 'bear': 3,\n",
       " 'beaver': 4,\n",
       " 'bed': 5,\n",
       " 'bee': 6,\n",
       " 'beetle': 7,\n",
       " 'bicycle': 8,\n",
       " 'bottle': 9,\n",
       " 'bowl': 10,\n",
       " 'boy': 11,\n",
       " 'bridge': 12,\n",
       " 'bus': 13,\n",
       " 'butterfly': 14,\n",
       " 'camel': 15,\n",
       " 'can': 16,\n",
       " 'castle': 17,\n",
       " 'caterpillar': 18,\n",
       " 'cattle': 19,\n",
       " 'chair': 20,\n",
       " 'chimpanzee': 21,\n",
       " 'clock': 22,\n",
       " 'cloud': 23,\n",
       " 'cockroach': 24,\n",
       " 'couch': 25,\n",
       " 'crab': 26,\n",
       " 'crocodile': 27,\n",
       " 'cup': 28,\n",
       " 'dinosaur': 29,\n",
       " 'dolphin': 30,\n",
       " 'elephant': 31,\n",
       " 'flatfish': 32,\n",
       " 'forest': 33,\n",
       " 'fox': 34,\n",
       " 'girl': 35,\n",
       " 'hamster': 36,\n",
       " 'house': 37,\n",
       " 'kangaroo': 38,\n",
       " 'keyboard': 39,\n",
       " 'lamp': 40,\n",
       " 'lawn_mower': 41,\n",
       " 'leopard': 42,\n",
       " 'lion': 43,\n",
       " 'lizard': 44,\n",
       " 'lobster': 45,\n",
       " 'man': 46,\n",
       " 'maple_tree': 47,\n",
       " 'motorcycle': 48,\n",
       " 'mountain': 49,\n",
       " 'mouse': 50,\n",
       " 'mushroom': 51,\n",
       " 'oak_tree': 52,\n",
       " 'orange': 53,\n",
       " 'orchid': 54,\n",
       " 'otter': 55,\n",
       " 'palm_tree': 56,\n",
       " 'pear': 57,\n",
       " 'pickup_truck': 58,\n",
       " 'pine_tree': 59,\n",
       " 'plain': 60,\n",
       " 'plate': 61,\n",
       " 'poppy': 62,\n",
       " 'porcupine': 63,\n",
       " 'possum': 64,\n",
       " 'rabbit': 65,\n",
       " 'raccoon': 66,\n",
       " 'ray': 67,\n",
       " 'road': 68,\n",
       " 'rocket': 69,\n",
       " 'rose': 70,\n",
       " 'sea': 71,\n",
       " 'seal': 72,\n",
       " 'shark': 73,\n",
       " 'shrew': 74,\n",
       " 'skunk': 75,\n",
       " 'skyscraper': 76,\n",
       " 'snail': 77,\n",
       " 'snake': 78,\n",
       " 'spider': 79,\n",
       " 'squirrel': 80,\n",
       " 'streetcar': 81,\n",
       " 'sunflower': 82,\n",
       " 'sweet_pepper': 83,\n",
       " 'table': 84,\n",
       " 'tank': 85,\n",
       " 'telephone': 86,\n",
       " 'television': 87,\n",
       " 'tiger': 88,\n",
       " 'tractor': 89,\n",
       " 'train': 90,\n",
       " 'trout': 91,\n",
       " 'tulip': 92,\n",
       " 'turtle': 93,\n",
       " 'wardrobe': 94,\n",
       " 'whale': 95,\n",
       " 'willow_tree': 96,\n",
       " 'wolf': 97,\n",
       " 'woman': 98,\n",
       " 'worm': 99}"
      ]
     },
     "execution_count": 24,
     "metadata": {},
     "output_type": "execute_result"
    }
   ],
   "source": [
    "train_dataset.class_to_idx"
   ]
  },
  {
   "cell_type": "code",
   "execution_count": 25,
   "id": "b9470737",
   "metadata": {},
   "outputs": [
    {
     "data": {
      "text/plain": [
       "793"
      ]
     },
     "execution_count": 25,
     "metadata": {},
     "output_type": "execute_result"
    }
   ],
   "source": [
    "len(train_dataset.targets)"
   ]
  },
  {
   "cell_type": "code",
   "execution_count": 26,
   "id": "21090ae8",
   "metadata": {},
   "outputs": [
    {
     "ename": "ValueError",
     "evalue": "too many values to unpack (expected 2)",
     "output_type": "error",
     "traceback": [
      "\u001b[0;31m---------------------------------------------------------------------------\u001b[0m",
      "\u001b[0;31mValueError\u001b[0m                                Traceback (most recent call last)",
      "Cell \u001b[0;32mIn[26], line 1\u001b[0m\n\u001b[0;32m----> 1\u001b[0m train_dataset\u001b[39m.\u001b[39;49mload_dataset(t\u001b[39m=\u001b[39;49m\u001b[39m0\u001b[39;49m,client\u001b[39m=\u001b[39;49m\u001b[39m0\u001b[39;49m)\n",
      "File \u001b[0;32m/data2/grbagwe/Projects/promptFCL/dataloaders/dataloader.py:169\u001b[0m, in \u001b[0;36miDataset_Fed.load_dataset\u001b[0;34m(self, t, train, client)\u001b[0m\n\u001b[1;32m    167\u001b[0m \u001b[39mif\u001b[39;00m train:  \u001b[39m# in the training model\u001b[39;00m\n\u001b[1;32m    168\u001b[0m     \u001b[39mif\u001b[39;00m client \u001b[39m>\u001b[39m\u001b[39m=\u001b[39m \u001b[39m0\u001b[39m:\n\u001b[0;32m--> 169\u001b[0m         \u001b[39mself\u001b[39m\u001b[39m.\u001b[39mdata, \u001b[39mself\u001b[39m\u001b[39m.\u001b[39mtargets \u001b[39m=\u001b[39m \u001b[39mself\u001b[39m\u001b[39m.\u001b[39marchive[t][client]\n\u001b[1;32m    170\u001b[0m     \u001b[39melse\u001b[39;00m:\n\u001b[1;32m    171\u001b[0m         \u001b[39mself\u001b[39m\u001b[39m.\u001b[39mdata, \u001b[39mself\u001b[39m\u001b[39m.\u001b[39mtargets \u001b[39m=\u001b[39m \u001b[39mself\u001b[39m\u001b[39m.\u001b[39marchive[t]\n",
      "\u001b[0;31mValueError\u001b[0m: too many values to unpack (expected 2)"
     ]
    }
   ],
   "source": [
    "train_dataset.load_dataset(t=0,client=0)"
   ]
  },
  {
   "cell_type": "code",
   "execution_count": null,
   "id": "27f28601",
   "metadata": {},
   "outputs": [
    {
     "data": {
      "text/plain": [
       "[[20, 79, 93, 54, 52, 65, 0, 1, 48, 74],\n",
       " [44, 82, 35, 69, 91, 42, 33, 14, 5, 62],\n",
       " [32, 55, 96, 10, 21, 31, 90, 27, 28, 76],\n",
       " [80, 71, 66, 58, 23, 70, 60, 72, 17, 18],\n",
       " [45, 34, 11, 56, 84, 13, 41, 30, 24, 85],\n",
       " [51, 75, 37, 6, 53, 94, 95, 39, 47, 98],\n",
       " [36, 7, 50, 3, 63, 59, 9, 77, 64, 92],\n",
       " [86, 97, 61, 19, 25, 4, 16, 8, 46, 26],\n",
       " [2, 88, 29, 22, 87, 67, 68, 38, 83, 15],\n",
       " [12, 81, 43, 73, 78, 40, 99, 57, 89, 49]]"
      ]
     },
     "execution_count": 18,
     "metadata": {},
     "output_type": "execute_result"
    }
   ],
   "source": [
    "train_dataset.tasks"
   ]
  },
  {
   "cell_type": "code",
   "execution_count": null,
   "id": "30aac9dd",
   "metadata": {},
   "outputs": [
    {
     "data": {
      "text/plain": [
       "[0, 1, 2, 3, 4, 5, 6, 7, 8, 9]"
      ]
     },
     "execution_count": 19,
     "metadata": {},
     "output_type": "execute_result"
    }
   ],
   "source": [
    "a = list(np.arange(0,10))\n",
    "a"
   ]
  },
  {
   "cell_type": "code",
   "execution_count": null,
   "id": "3ced7561",
   "metadata": {},
   "outputs": [
    {
     "data": {
      "text/plain": [
       "array([  0,   1,   2,   3,   4,   5,   6,   7,   8,   9,  10,  11,  12,\n",
       "        13,  14,  15,  16,  17,  18,  19,  20,  21,  22,  23,  24,  25,\n",
       "        26,  27,  28,  29,  30,  31,  32,  33,  34,  35,  36,  37,  38,\n",
       "        39,  40,  41,  42,  43,  44,  45,  46,  47,  48,  49,  50,  51,\n",
       "        52,  53,  54,  55,  56,  57,  58,  59,  60,  61,  62,  63,  64,\n",
       "        65,  66,  67,  68,  69,  70,  71,  72,  73,  74,  75,  76,  77,\n",
       "        78,  79,  80,  81,  82,  83,  84,  85,  86,  87,  88,  89,  90,\n",
       "        91,  92,  93,  94,  95,  96,  97,  98,  99, 100, 101, 102, 103,\n",
       "       104, 105, 106, 107, 108, 109, 110, 111, 112, 113, 114, 115, 116,\n",
       "       117, 118, 119, 120, 121, 122, 123, 124, 125, 126, 127, 128, 129,\n",
       "       130, 131, 132, 133, 134, 135, 136, 137, 138, 139, 140, 141, 142,\n",
       "       143, 144, 145, 146, 147, 148, 149, 150, 151, 152, 153, 154, 155,\n",
       "       156, 157, 158, 159, 160, 161, 162, 163, 164, 165, 166, 167, 168,\n",
       "       169, 170, 171, 172, 173, 174, 175, 176, 177, 178, 179, 180, 181,\n",
       "       182, 183, 184, 185, 186, 187, 188, 189, 190, 191, 192, 193, 194,\n",
       "       195, 196, 197, 198, 199, 200, 201, 202, 203, 204, 205, 206, 207,\n",
       "       208, 209, 210, 211, 212, 213, 214, 215, 216, 217, 218, 219, 220,\n",
       "       221, 222, 223, 224, 225, 226, 227, 228, 229, 230, 231, 232, 233,\n",
       "       234, 235, 236, 237, 238, 239, 240, 241, 242])"
      ]
     },
     "execution_count": 20,
     "metadata": {},
     "output_type": "execute_result"
    }
   ],
   "source": [
    "locs = np.isin(train_dataset.targets, train_dataset.tasks[0]).nonzero()[0]\n",
    "locs"
   ]
  },
  {
   "cell_type": "code",
   "execution_count": null,
   "id": "d4a0729f",
   "metadata": {},
   "outputs": [
    {
     "data": {
      "text/plain": [
       "243"
      ]
     },
     "execution_count": 21,
     "metadata": {},
     "output_type": "execute_result"
    }
   ],
   "source": [
    "len(locs)"
   ]
  },
  {
   "cell_type": "code",
   "execution_count": null,
   "id": "c97730a6",
   "metadata": {},
   "outputs": [],
   "source": [
    "train_dataset_1 = torch.utils.data.Subset(train_dataset, locs[:int(len(train_dataset.targets)/2)])"
   ]
  },
  {
   "cell_type": "code",
   "execution_count": null,
   "id": "1d8245b4",
   "metadata": {},
   "outputs": [],
   "source": [
    "t_loader = torch.utils.data.DataLoader(train_dataset_1,batch_size = 10)"
   ]
  },
  {
   "cell_type": "code",
   "execution_count": null,
   "id": "06fd5deb",
   "metadata": {},
   "outputs": [
    {
     "data": {
      "text/plain": [
       "130"
      ]
     },
     "execution_count": 24,
     "metadata": {},
     "output_type": "execute_result"
    }
   ],
   "source": [
    "len(t_loader) * 10"
   ]
  },
  {
   "cell_type": "code",
   "execution_count": null,
   "id": "e8871063",
   "metadata": {},
   "outputs": [
    {
     "data": {
      "text/plain": [
       "array([[[[211, 211, 213],\n",
       "         [209, 209, 211],\n",
       "         [209, 209, 211],\n",
       "         ...,\n",
       "         [204, 204, 206],\n",
       "         [202, 202, 204],\n",
       "         [200, 200, 202]],\n",
       "\n",
       "        [[209, 209, 211],\n",
       "         [206, 206, 208],\n",
       "         [207, 207, 209],\n",
       "         ...,\n",
       "         [201, 201, 203],\n",
       "         [199, 199, 201],\n",
       "         [197, 197, 199]],\n",
       "\n",
       "        [[209, 209, 211],\n",
       "         [207, 207, 209],\n",
       "         [207, 207, 209],\n",
       "         ...,\n",
       "         [200, 200, 202],\n",
       "         [198, 198, 200],\n",
       "         [197, 197, 199]],\n",
       "\n",
       "        ...,\n",
       "\n",
       "        [[216, 215, 221],\n",
       "         [209, 208, 214],\n",
       "         [203, 202, 208],\n",
       "         ...,\n",
       "         [185, 185, 186],\n",
       "         [191, 190, 192],\n",
       "         [193, 193, 195]],\n",
       "\n",
       "        [[216, 215, 221],\n",
       "         [211, 210, 216],\n",
       "         [207, 206, 212],\n",
       "         ...,\n",
       "         [192, 192, 194],\n",
       "         [196, 196, 198],\n",
       "         [198, 198, 200]],\n",
       "\n",
       "        [[217, 216, 222],\n",
       "         [213, 212, 218],\n",
       "         [212, 211, 217],\n",
       "         ...,\n",
       "         [198, 198, 200],\n",
       "         [198, 198, 200],\n",
       "         [199, 199, 201]]],\n",
       "\n",
       "\n",
       "       [[[215, 212, 207],\n",
       "         [220, 214, 213],\n",
       "         [223, 215, 217],\n",
       "         ...,\n",
       "         [255, 255, 255],\n",
       "         [255, 255, 252],\n",
       "         [255, 255, 251]],\n",
       "\n",
       "        [[208, 210, 204],\n",
       "         [217, 212, 211],\n",
       "         [222, 207, 210],\n",
       "         ...,\n",
       "         [252, 253, 250],\n",
       "         [252, 253, 248],\n",
       "         [252, 253, 247]],\n",
       "\n",
       "        [[208, 210, 205],\n",
       "         [217, 212, 211],\n",
       "         [212, 197, 197],\n",
       "         ...,\n",
       "         [254, 252, 250],\n",
       "         [254, 253, 249],\n",
       "         [253, 254, 248]],\n",
       "\n",
       "        ...,\n",
       "\n",
       "        [[181, 176, 166],\n",
       "         [182, 176, 166],\n",
       "         [180, 175, 165],\n",
       "         ...,\n",
       "         [149, 135, 133],\n",
       "         [120, 106, 105],\n",
       "         [218, 211, 209]],\n",
       "\n",
       "        [[196, 194, 187],\n",
       "         [195, 192, 185],\n",
       "         [192, 189, 182],\n",
       "         ...,\n",
       "         [218, 216, 212],\n",
       "         [211, 207, 204],\n",
       "         [243, 240, 236]],\n",
       "\n",
       "        [[231, 230, 226],\n",
       "         [233, 232, 227],\n",
       "         [232, 231, 226],\n",
       "         ...,\n",
       "         [255, 255, 255],\n",
       "         [255, 255, 255],\n",
       "         [255, 255, 254]]],\n",
       "\n",
       "\n",
       "       [[[250, 253, 245],\n",
       "         [251, 247, 238],\n",
       "         [247, 236, 227],\n",
       "         ...,\n",
       "         [255, 255, 253],\n",
       "         [255, 255, 255],\n",
       "         [255, 255, 251]],\n",
       "\n",
       "        [[240, 241, 229],\n",
       "         [211, 199, 182],\n",
       "         [196, 171, 147],\n",
       "         ...,\n",
       "         [254, 254, 250],\n",
       "         [255, 255, 252],\n",
       "         [252, 252, 248]],\n",
       "\n",
       "        [[217, 213, 203],\n",
       "         [152, 134, 117],\n",
       "         [157, 127, 100],\n",
       "         ...,\n",
       "         [255, 255, 251],\n",
       "         [255, 255, 252],\n",
       "         [253, 253, 249]],\n",
       "\n",
       "        ...,\n",
       "\n",
       "        [[252, 251, 249],\n",
       "         [255, 253, 250],\n",
       "         [248, 246, 241],\n",
       "         ...,\n",
       "         [246, 243, 242],\n",
       "         [255, 254, 254],\n",
       "         [249, 250, 249]],\n",
       "\n",
       "        [[252, 252, 248],\n",
       "         [255, 255, 252],\n",
       "         [255, 255, 251],\n",
       "         ...,\n",
       "         [255, 255, 252],\n",
       "         [255, 255, 252],\n",
       "         [251, 252, 248]],\n",
       "\n",
       "        [[255, 255, 251],\n",
       "         [255, 255, 255],\n",
       "         [255, 255, 253],\n",
       "         ...,\n",
       "         [255, 255, 253],\n",
       "         [255, 255, 255],\n",
       "         [255, 255, 251]]],\n",
       "\n",
       "\n",
       "       ...,\n",
       "\n",
       "\n",
       "       [[[ 45,  43,  29],\n",
       "         [ 46,  48,  42],\n",
       "         [ 89,  91,  82],\n",
       "         ...,\n",
       "         [ 92,  76,  64],\n",
       "         [116, 103,  93],\n",
       "         [152, 144, 137]],\n",
       "\n",
       "        [[ 55,  47,  25],\n",
       "         [ 72,  68,  54],\n",
       "         [110, 108,  93],\n",
       "         ...,\n",
       "         [ 81,  71,  66],\n",
       "         [112, 107, 104],\n",
       "         [161, 158, 158]],\n",
       "\n",
       "        [[ 74,  63,  41],\n",
       "         [ 79,  69,  51],\n",
       "         [116, 107,  90],\n",
       "         ...,\n",
       "         [ 47,  46,  49],\n",
       "         [ 56,  56,  59],\n",
       "         [ 79,  81,  85]],\n",
       "\n",
       "        ...,\n",
       "\n",
       "        [[144, 136, 138],\n",
       "         [146, 135, 139],\n",
       "         [156, 145, 149],\n",
       "         ...,\n",
       "         [153, 135, 125],\n",
       "         [156, 138, 130],\n",
       "         [144, 130, 120]],\n",
       "\n",
       "        [[135, 127, 131],\n",
       "         [133, 123, 127],\n",
       "         [143, 132, 136],\n",
       "         ...,\n",
       "         [143, 126, 120],\n",
       "         [139, 122, 118],\n",
       "         [133, 119, 114]],\n",
       "\n",
       "        [[144, 135, 143],\n",
       "         [141, 130, 136],\n",
       "         [152, 141, 145],\n",
       "         ...,\n",
       "         [137, 122, 120],\n",
       "         [136, 123, 119],\n",
       "         [136, 123, 121]]],\n",
       "\n",
       "\n",
       "       [[[255, 255, 255],\n",
       "         [255, 255, 255],\n",
       "         [255, 255, 255],\n",
       "         ...,\n",
       "         [255, 255, 254],\n",
       "         [255, 255, 254],\n",
       "         [255, 255, 255]],\n",
       "\n",
       "        [[255, 255, 255],\n",
       "         [254, 254, 254],\n",
       "         [255, 255, 255],\n",
       "         ...,\n",
       "         [253, 254, 254],\n",
       "         [254, 255, 254],\n",
       "         [253, 255, 254]],\n",
       "\n",
       "        [[245, 246, 242],\n",
       "         [244, 244, 240],\n",
       "         [244, 245, 241],\n",
       "         ...,\n",
       "         [248, 245, 240],\n",
       "         [248, 246, 240],\n",
       "         [247, 246, 241]],\n",
       "\n",
       "        ...,\n",
       "\n",
       "        [[249, 248, 242],\n",
       "         [248, 248, 242],\n",
       "         [249, 249, 243],\n",
       "         ...,\n",
       "         [245, 245, 242],\n",
       "         [245, 245, 242],\n",
       "         [245, 245, 242]],\n",
       "\n",
       "        [[254, 255, 255],\n",
       "         [253, 255, 255],\n",
       "         [253, 255, 255],\n",
       "         ...,\n",
       "         [255, 255, 255],\n",
       "         [255, 255, 255],\n",
       "         [255, 255, 255]],\n",
       "\n",
       "        [[255, 255, 255],\n",
       "         [254, 254, 254],\n",
       "         [255, 254, 255],\n",
       "         ...,\n",
       "         [254, 255, 255],\n",
       "         [255, 255, 255],\n",
       "         [255, 255, 255]]],\n",
       "\n",
       "\n",
       "       [[[ 13,  13,  11],\n",
       "         [ 16,  22,  19],\n",
       "         [ 17,  21,  19],\n",
       "         ...,\n",
       "         [ 14,  21,  19],\n",
       "         [ 14,  16,  11],\n",
       "         [ 12,  12,   7]],\n",
       "\n",
       "        [[ 78,  82,  79],\n",
       "         [136, 149, 144],\n",
       "         [135, 147, 139],\n",
       "         ...,\n",
       "         [113, 127, 123],\n",
       "         [ 72,  77,  69],\n",
       "         [ 35,  35,  28]],\n",
       "\n",
       "        [[ 89,  97,  96],\n",
       "         [154, 170, 164],\n",
       "         [150, 166, 153],\n",
       "         ...,\n",
       "         [131, 150, 143],\n",
       "         [ 85,  94,  83],\n",
       "         [ 31,  32,  23]],\n",
       "\n",
       "        ...,\n",
       "\n",
       "        [[ 79,  85,  80],\n",
       "         [129, 144, 130],\n",
       "         [117, 134, 119],\n",
       "         ...,\n",
       "         [138, 128,  93],\n",
       "         [115, 115,  72],\n",
       "         [ 85,  90,  56]],\n",
       "\n",
       "        [[ 78,  81,  80],\n",
       "         [130, 138, 133],\n",
       "         [101, 108, 102],\n",
       "         ...,\n",
       "         [114, 108,  81],\n",
       "         [128, 126,  94],\n",
       "         [ 95,  96,  73]],\n",
       "\n",
       "        [[ 33,  36,  34],\n",
       "         [ 60,  65,  61],\n",
       "         [ 48,  50,  46],\n",
       "         ...,\n",
       "         [ 71,  67,  56],\n",
       "         [ 82,  78,  66],\n",
       "         [ 64,  61,  53]]]], dtype=uint8)"
      ]
     },
     "execution_count": 25,
     "metadata": {},
     "output_type": "execute_result"
    }
   ],
   "source": [
    "train_dataset_1.dataset.data"
   ]
  },
  {
   "cell_type": "code",
   "execution_count": null,
   "id": "fa48ee10",
   "metadata": {},
   "outputs": [
    {
     "data": {
      "text/plain": [
       "3"
      ]
     },
     "execution_count": 26,
     "metadata": {},
     "output_type": "execute_result"
    }
   ],
   "source": [
    "500//128"
   ]
  },
  {
   "cell_type": "code",
   "execution_count": null,
   "id": "28d6d5fd",
   "metadata": {},
   "outputs": [
    {
     "data": {
      "text/plain": [
       "7.8125"
      ]
     },
     "execution_count": 27,
     "metadata": {},
     "output_type": "execute_result"
    }
   ],
   "source": [
    "500/64\n"
   ]
  },
  {
   "cell_type": "code",
   "execution_count": null,
   "id": "74c96223",
   "metadata": {},
   "outputs": [],
   "source": []
  }
 ],
 "metadata": {
  "kernelspec": {
   "display_name": "promptFCL",
   "language": "python",
   "name": "python3"
  },
  "language_info": {
   "codemirror_mode": {
    "name": "ipython",
    "version": 3
   },
   "file_extension": ".py",
   "mimetype": "text/x-python",
   "name": "python",
   "nbconvert_exporter": "python",
   "pygments_lexer": "ipython3",
   "version": "3.10.9"
  },
  "vscode": {
   "interpreter": {
    "hash": "706466e2cd6ba47dc72a23aff5b4b412fa3e343d00dce46686a6ac93eab9d9be"
   }
  }
 },
 "nbformat": 4,
 "nbformat_minor": 5
}

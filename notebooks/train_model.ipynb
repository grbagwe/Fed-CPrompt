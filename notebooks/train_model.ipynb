{
 "cells": [
  {
   "cell_type": "code",
   "execution_count": 1,
   "id": "e3dcfe23",
   "metadata": {},
   "outputs": [
    {
     "name": "stderr",
     "output_type": "stream",
     "text": [
      "/home/grbagwe/miniconda3/envs/promptFCL/lib/python3.10/site-packages/tqdm/auto.py:22: TqdmWarning: IProgress not found. Please update jupyter and ipywidgets. See https://ipywidgets.readthedocs.io/en/stable/user_install.html\n",
      "  from .autonotebook import tqdm as notebook_tqdm\n"
     ]
    }
   ],
   "source": [
    "# imports\n",
    "import os, sys\n",
    "# module_path = os.path.abspath(os.path.join('../../Prompt-based-class-incremental-learning-in-Federated-Learning/CODA_Prompt_CVPR2023_Code/'))\n",
    "module_path = os.path.abspath(os.path.join('..'))\n",
    "\n",
    "if module_path not in sys.path:\n",
    "    sys.path.append(module_path)\n",
    "import torch, torchvision, numpy as np\n",
    "from dataloaders import dataloader\n",
    "from dataloaders.dataloader import iCIFAR100_Fed\n",
    "import random\n",
    "\n",
    "seed = 2023\n",
    "np.random.seed(seed)\n",
    "torch.manual_seed(seed)\n",
    "random.seed(seed)\n",
    "torch.cuda.manual_seed(seed)\n",
    "\n",
    "# from models import vision_transformer\n"
   ]
  },
  {
   "cell_type": "code",
   "execution_count": 7,
   "id": "542f474a",
   "metadata": {},
   "outputs": [],
   "source": [
    "from __future__ import absolute_import\n",
    "from __future__ import division\n",
    "from __future__ import print_function\n",
    "from __future__ import unicode_literals\n",
    "import os\n",
    "import sys\n",
    "import argparse\n",
    "import torch\n",
    "import numpy as np\n",
    "import yaml\n",
    "import json\n",
    "import random\n",
    "from trainer import Trainer\n",
    "from run import create_args, get_args"
   ]
  },
  {
   "cell_type": "code",
   "execution_count": 15,
   "id": "a4bb52e6",
   "metadata": {},
   "outputs": [],
   "source": [
    "parser=create_args()"
   ]
  },
  {
   "cell_type": "code",
   "execution_count": 20,
   "id": "9fb3f2df",
   "metadata": {},
   "outputs": [],
   "source": [
    "args = parser.parse_args(\"\")\n"
   ]
  },
  {
   "cell_type": "code",
   "execution_count": 21,
   "id": "ae3bbb43",
   "metadata": {},
   "outputs": [],
   "source": [
    "args.gpuid = [0,1,2,3]\n",
    "args.learner_type = \"prompt\"\n",
    "args.learner_name = \"DualPrompt\"\n",
    "args.mu = 0.1\n",
    "args.overwrite = 1 \n",
    "args.prompt_param = [100,  8, 0, 0, 0]"
   ]
  },
  {
   "cell_type": "code",
   "execution_count": 22,
   "id": "76025eb3",
   "metadata": {},
   "outputs": [
    {
     "data": {
      "text/plain": [
       "Namespace(gpuid=[0, 1, 2, 3], log_dir='outputs/out', learner_type='prompt', learner_name='DualPrompt', debug_mode=0, repeat=1, overwrite=1, oracle_flag=False, upper_bound_flag=False, memory=0, temp=2.0, DW=False, prompt_param=[100, 8, 0, 0, 0], mu=0.1, beta=0.0, eps=0.0, config='configs/config.yaml')"
      ]
     },
     "execution_count": 22,
     "metadata": {},
     "output_type": "execute_result"
    }
   ],
   "source": [
    "args"
   ]
  },
  {
   "cell_type": "code",
   "execution_count": 25,
   "id": "80dca4f4",
   "metadata": {},
   "outputs": [],
   "source": [
    "config = yaml.load(open(\"../configs/coda_cifar100.yaml\", 'r'), Loader=yaml.Loader)\n",
    "config.update(vars(args))"
   ]
  },
  {
   "cell_type": "code",
   "execution_count": 24,
   "id": "7159e3c3",
   "metadata": {},
   "outputs": [
    {
     "data": {
      "text/plain": [
       "{'dataset': 'CIFAR100_Fed',\n",
       " 'first_split_size': 10,\n",
       " 'other_split_size': 10,\n",
       " 'schedule': [3],\n",
       " 'schedule_type': 'cosine',\n",
       " 'batch_size': 128,\n",
       " 'optimizer': 'Adam',\n",
       " 'lr': 0.001,\n",
       " 'momentum': 0.9,\n",
       " 'weight_decay': 0,\n",
       " 'model_type': 'zoo_ours',\n",
       " 'model_name': 'vit_pt_imnet',\n",
       " 'vis_flag': False,\n",
       " 'max_task': -1,\n",
       " 'dataroot': 'data',\n",
       " 'workers': 8,\n",
       " 'validation': False,\n",
       " 'train_aug': True,\n",
       " 'rand_split': True,\n",
       " 'num_clients': 10,\n",
       " 'num_rounds': 5,\n",
       " 'iid': 0}"
      ]
     },
     "execution_count": 24,
     "metadata": {},
     "output_type": "execute_result"
    }
   ],
   "source": [
    "config"
   ]
  },
  {
   "cell_type": "code",
   "execution_count": 67,
   "id": "58c3ff40",
   "metadata": {},
   "outputs": [
    {
     "name": "stderr",
     "output_type": "stream",
     "text": [
      "Failed to detect the name of this notebook, you can set it manually with the WANDB_NOTEBOOK_NAME environment variable to enable code saving.\n",
      "\u001b[34m\u001b[1mwandb\u001b[0m: Currently logged in as: \u001b[33mgrbagwe\u001b[0m. Use \u001b[1m`wandb login --relogin`\u001b[0m to force relogin\n"
     ]
    },
    {
     "data": {
      "text/html": [
       "wandb version 0.13.10 is available!  To upgrade, please run:\n",
       " $ pip install wandb --upgrade"
      ],
      "text/plain": [
       "<IPython.core.display.HTML object>"
      ]
     },
     "metadata": {},
     "output_type": "display_data"
    },
    {
     "data": {
      "text/html": [
       "Tracking run with wandb version 0.13.9"
      ],
      "text/plain": [
       "<IPython.core.display.HTML object>"
      ]
     },
     "metadata": {},
     "output_type": "display_data"
    },
    {
     "data": {
      "text/html": [
       "Run data is saved locally in <code>/data/gaurav/Projects/promptFCL/notebooks/wandb/run-20230214_140947-ckt06zjq</code>"
      ],
      "text/plain": [
       "<IPython.core.display.HTML object>"
      ]
     },
     "metadata": {},
     "output_type": "display_data"
    },
    {
     "data": {
      "text/html": [
       "Syncing run <strong><a href=\"https://wandb.ai/grbagwe/FedCoda/runs/ckt06zjq\" target=\"_blank\">effusive-sweetheart-9</a></strong> to <a href=\"https://wandb.ai/grbagwe/FedCoda\" target=\"_blank\">Weights & Biases</a> (<a href=\"https://wandb.me/run\" target=\"_blank\">docs</a>)<br/>"
      ],
      "text/plain": [
       "<IPython.core.display.HTML object>"
      ]
     },
     "metadata": {},
     "output_type": "display_data"
    },
    {
     "data": {
      "text/html": [
       " View project at <a href=\"https://wandb.ai/grbagwe/FedCoda\" target=\"_blank\">https://wandb.ai/grbagwe/FedCoda</a>"
      ],
      "text/plain": [
       "<IPython.core.display.HTML object>"
      ]
     },
     "metadata": {},
     "output_type": "display_data"
    },
    {
     "data": {
      "text/html": [
       " View run at <a href=\"https://wandb.ai/grbagwe/FedCoda/runs/ckt06zjq\" target=\"_blank\">https://wandb.ai/grbagwe/FedCoda/runs/ckt06zjq</a>"
      ],
      "text/plain": [
       "<IPython.core.display.HTML object>"
      ]
     },
     "metadata": {},
     "output_type": "display_data"
    }
   ],
   "source": [
    "metric_keys = ['acc','aux_task','mem','time','plastic','til','cka']\n",
    "save_keys = ['global', 'pt', 'pt-local']\n",
    "global_only = ['mem','time','plastic','til','cka']\n",
    "avg_metrics = {}\n",
    "seed = 0\n",
    "import wandb\n",
    "args.num_rounds = 2\n",
    "args.num_clients = 10\n",
    "args.vis_flag = False\n",
    "args.batch_size = 128\n",
    "args.workers = 8\n",
    "args.dataset = \"CIFAR100_Fed\"\n",
    "args.max_task = -1\n",
    "args.first_split_size = 10 \n",
    "args.other_split_size = 10\n",
    "args.model_type = \"zoo_ours\"\n",
    "args.model_name = \"vit_pt_imnet\"\n",
    "args.train_aug  = True\n",
    "args.dataroot = \"data\"\n",
    "args.rand_split = \"True\"\n",
    "args.validation = \"False\"\n",
    "args.iid = 0 \n",
    "args.lr = 0.0001\n",
    "args.momentum = 0.9\n",
    "args.weight_decay = 0\n",
    "args.schedule_type = \"cosine\"\n",
    "args.optimizer =  'Adam'\n",
    "args.schedule = [3]\n",
    "run = wandb.init(project=\"FedCoda\",\n",
    "                     sync_tensorboard=True, group= \"temp\")\n",
    "args.wandb = wandb\n"
   ]
  },
  {
   "cell_type": "code",
   "execution_count": 68,
   "id": "3f94346a",
   "metadata": {},
   "outputs": [
    {
     "name": "stdout",
     "output_type": "stream",
     "text": [
      "in cifar 100\n",
      "Files already downloaded and verified\n",
      "Files already downloaded and verified\n",
      " --------------- task_logits : 10\n",
      "in count _params\n",
      "Num param opt: 100.0\n",
      "in count _params\n",
      "in count _params\n",
      "Num param opt: 100.0\n",
      "in count _params\n",
      "in count _params\n",
      "Num param opt: 100.0\n",
      "in count _params\n",
      "in count _params\n",
      "Num param opt: 100.0\n",
      "in count _params\n",
      "in count _params\n",
      "Num param opt: 100.0\n",
      "in count _params\n",
      "in count _params\n",
      "Num param opt: 100.0\n",
      "in count _params\n",
      "in count _params\n",
      "Num param opt: 100.0\n",
      "in count _params\n",
      "in count _params\n",
      "Num param opt: 100.0\n",
      "in count _params\n",
      "in count _params\n",
      "Num param opt: 100.0\n",
      "in count _params\n",
      "in count _params\n",
      "Num param opt: 100.0\n",
      "in count _params\n",
      "\n",
      "\n",
      "\n",
      " args: Namespace(gpuid=[0, 1, 2, 3], log_dir='outputs/out', learner_type='prompt', learner_name='DualPrompt', debug_mode=0, repeat=1, overwrite=1, oracle_flag=False, upper_bound_flag=False, memory=0, temp=2.0, DW=False, prompt_param=[100, 8, 0, 0, 0], mu=0.1, beta=0.0, eps=0.0, config='configs/config.yaml', wandb=<module 'wandb' from '/home/grbagwe/miniconda3/envs/promptFCL/lib/python3.10/site-packages/wandb/__init__.py'>, num_rounds=2, num_clients=10, vis_flag=False, batch_size=128, workers=8, dataset='CIFAR100_Fed', max_task=-1, first_split_size=10, other_split_size=10, model_type='zoo_ours', model_name='vit_pt_imnet', train_aug=True, dataroot='data', rand_split='True', validation='False', iid=0, lr=0.0001, momentum=0.9, weight_decay=0, schedule_type='cosine', optimizer='Adam', schedule=[3]) \n",
      "\n",
      "\n",
      "learner config : {'num_classes': 100, 'lr': 0.0001, 'debug_mode': False, 'momentum': 0.9, 'weight_decay': 0, 'schedule': [3], 'schedule_type': 'cosine', 'model_type': 'zoo_ours', 'model_name': 'vit_pt_imnet', 'optimizer': 'Adam', 'gpuid': [0, 1, 2, 3], 'memory': 0, 'temp': 2.0, 'out_dim': 100, 'overwrite': True, 'mu': 0.1, 'beta': 0.0, 'eps': 0.0, 'DW': False, 'batch_size': 128, 'upper_bound_flag': False, 'tasks': [[0, 1, 2, 3, 4, 5, 6, 7, 8, 9], [10, 11, 12, 13, 14, 15, 16, 17, 18, 19], [20, 21, 22, 23, 24, 25, 26, 27, 28, 29], [30, 31, 32, 33, 34, 35, 36, 37, 38, 39], [40, 41, 42, 43, 44, 45, 46, 47, 48, 49], [50, 51, 52, 53, 54, 55, 56, 57, 58, 59], [60, 61, 62, 63, 64, 65, 66, 67, 68, 69], [70, 71, 72, 73, 74, 75, 76, 77, 78, 79], [80, 81, 82, 83, 84, 85, 86, 87, 88, 89], [90, 91, 92, 93, 94, 95, 96, 97, 98, 99]], 'top_k': 1, 'prompt_param': [10, [100, 8, 0, 0, 0]]}\n"
     ]
    }
   ],
   "source": [
    "trainer = Trainer(args, seed , metric_keys, save_keys)"
   ]
  },
  {
   "cell_type": "code",
   "execution_count": 71,
   "id": "c84d2f3e",
   "metadata": {},
   "outputs": [
    {
     "data": {
      "text/plain": [
       "odict_keys(['last.weight', 'last.bias', 'prompt.e_p_0', 'prompt.e_k_0', 'prompt.e_a_0', 'prompt.e_p_1', 'prompt.e_k_1', 'prompt.e_a_1', 'prompt.e_p_2', 'prompt.e_k_2', 'prompt.e_a_2', 'prompt.e_p_3', 'prompt.e_k_3', 'prompt.e_a_3', 'prompt.e_p_4', 'prompt.e_k_4', 'prompt.e_a_4', 'feat.cls_token', 'feat.pos_embed', 'feat.patch_embed.proj.weight', 'feat.patch_embed.proj.bias', 'feat.blocks.0.norm1.weight', 'feat.blocks.0.norm1.bias', 'feat.blocks.0.attn.qkv.weight', 'feat.blocks.0.attn.qkv.bias', 'feat.blocks.0.attn.proj.weight', 'feat.blocks.0.attn.proj.bias', 'feat.blocks.0.norm2.weight', 'feat.blocks.0.norm2.bias', 'feat.blocks.0.mlp.fc1.weight', 'feat.blocks.0.mlp.fc1.bias', 'feat.blocks.0.mlp.fc2.weight', 'feat.blocks.0.mlp.fc2.bias', 'feat.blocks.1.norm1.weight', 'feat.blocks.1.norm1.bias', 'feat.blocks.1.attn.qkv.weight', 'feat.blocks.1.attn.qkv.bias', 'feat.blocks.1.attn.proj.weight', 'feat.blocks.1.attn.proj.bias', 'feat.blocks.1.norm2.weight', 'feat.blocks.1.norm2.bias', 'feat.blocks.1.mlp.fc1.weight', 'feat.blocks.1.mlp.fc1.bias', 'feat.blocks.1.mlp.fc2.weight', 'feat.blocks.1.mlp.fc2.bias', 'feat.blocks.2.norm1.weight', 'feat.blocks.2.norm1.bias', 'feat.blocks.2.attn.qkv.weight', 'feat.blocks.2.attn.qkv.bias', 'feat.blocks.2.attn.proj.weight', 'feat.blocks.2.attn.proj.bias', 'feat.blocks.2.norm2.weight', 'feat.blocks.2.norm2.bias', 'feat.blocks.2.mlp.fc1.weight', 'feat.blocks.2.mlp.fc1.bias', 'feat.blocks.2.mlp.fc2.weight', 'feat.blocks.2.mlp.fc2.bias', 'feat.blocks.3.norm1.weight', 'feat.blocks.3.norm1.bias', 'feat.blocks.3.attn.qkv.weight', 'feat.blocks.3.attn.qkv.bias', 'feat.blocks.3.attn.proj.weight', 'feat.blocks.3.attn.proj.bias', 'feat.blocks.3.norm2.weight', 'feat.blocks.3.norm2.bias', 'feat.blocks.3.mlp.fc1.weight', 'feat.blocks.3.mlp.fc1.bias', 'feat.blocks.3.mlp.fc2.weight', 'feat.blocks.3.mlp.fc2.bias', 'feat.blocks.4.norm1.weight', 'feat.blocks.4.norm1.bias', 'feat.blocks.4.attn.qkv.weight', 'feat.blocks.4.attn.qkv.bias', 'feat.blocks.4.attn.proj.weight', 'feat.blocks.4.attn.proj.bias', 'feat.blocks.4.norm2.weight', 'feat.blocks.4.norm2.bias', 'feat.blocks.4.mlp.fc1.weight', 'feat.blocks.4.mlp.fc1.bias', 'feat.blocks.4.mlp.fc2.weight', 'feat.blocks.4.mlp.fc2.bias', 'feat.blocks.5.norm1.weight', 'feat.blocks.5.norm1.bias', 'feat.blocks.5.attn.qkv.weight', 'feat.blocks.5.attn.qkv.bias', 'feat.blocks.5.attn.proj.weight', 'feat.blocks.5.attn.proj.bias', 'feat.blocks.5.norm2.weight', 'feat.blocks.5.norm2.bias', 'feat.blocks.5.mlp.fc1.weight', 'feat.blocks.5.mlp.fc1.bias', 'feat.blocks.5.mlp.fc2.weight', 'feat.blocks.5.mlp.fc2.bias', 'feat.blocks.6.norm1.weight', 'feat.blocks.6.norm1.bias', 'feat.blocks.6.attn.qkv.weight', 'feat.blocks.6.attn.qkv.bias', 'feat.blocks.6.attn.proj.weight', 'feat.blocks.6.attn.proj.bias', 'feat.blocks.6.norm2.weight', 'feat.blocks.6.norm2.bias', 'feat.blocks.6.mlp.fc1.weight', 'feat.blocks.6.mlp.fc1.bias', 'feat.blocks.6.mlp.fc2.weight', 'feat.blocks.6.mlp.fc2.bias', 'feat.blocks.7.norm1.weight', 'feat.blocks.7.norm1.bias', 'feat.blocks.7.attn.qkv.weight', 'feat.blocks.7.attn.qkv.bias', 'feat.blocks.7.attn.proj.weight', 'feat.blocks.7.attn.proj.bias', 'feat.blocks.7.norm2.weight', 'feat.blocks.7.norm2.bias', 'feat.blocks.7.mlp.fc1.weight', 'feat.blocks.7.mlp.fc1.bias', 'feat.blocks.7.mlp.fc2.weight', 'feat.blocks.7.mlp.fc2.bias', 'feat.blocks.8.norm1.weight', 'feat.blocks.8.norm1.bias', 'feat.blocks.8.attn.qkv.weight', 'feat.blocks.8.attn.qkv.bias', 'feat.blocks.8.attn.proj.weight', 'feat.blocks.8.attn.proj.bias', 'feat.blocks.8.norm2.weight', 'feat.blocks.8.norm2.bias', 'feat.blocks.8.mlp.fc1.weight', 'feat.blocks.8.mlp.fc1.bias', 'feat.blocks.8.mlp.fc2.weight', 'feat.blocks.8.mlp.fc2.bias', 'feat.blocks.9.norm1.weight', 'feat.blocks.9.norm1.bias', 'feat.blocks.9.attn.qkv.weight', 'feat.blocks.9.attn.qkv.bias', 'feat.blocks.9.attn.proj.weight', 'feat.blocks.9.attn.proj.bias', 'feat.blocks.9.norm2.weight', 'feat.blocks.9.norm2.bias', 'feat.blocks.9.mlp.fc1.weight', 'feat.blocks.9.mlp.fc1.bias', 'feat.blocks.9.mlp.fc2.weight', 'feat.blocks.9.mlp.fc2.bias', 'feat.blocks.10.norm1.weight', 'feat.blocks.10.norm1.bias', 'feat.blocks.10.attn.qkv.weight', 'feat.blocks.10.attn.qkv.bias', 'feat.blocks.10.attn.proj.weight', 'feat.blocks.10.attn.proj.bias', 'feat.blocks.10.norm2.weight', 'feat.blocks.10.norm2.bias', 'feat.blocks.10.mlp.fc1.weight', 'feat.blocks.10.mlp.fc1.bias', 'feat.blocks.10.mlp.fc2.weight', 'feat.blocks.10.mlp.fc2.bias', 'feat.blocks.11.norm1.weight', 'feat.blocks.11.norm1.bias', 'feat.blocks.11.attn.qkv.weight', 'feat.blocks.11.attn.qkv.bias', 'feat.blocks.11.attn.proj.weight', 'feat.blocks.11.attn.proj.bias', 'feat.blocks.11.norm2.weight', 'feat.blocks.11.norm2.bias', 'feat.blocks.11.mlp.fc1.weight', 'feat.blocks.11.mlp.fc1.bias', 'feat.blocks.11.mlp.fc2.weight', 'feat.blocks.11.mlp.fc2.bias', 'feat.norm.weight', 'feat.norm.bias'])"
      ]
     },
     "execution_count": 71,
     "metadata": {},
     "output_type": "execute_result"
    }
   ],
   "source": [
    "trainer.global_model.state_dict().keys()"
   ]
  },
  {
   "cell_type": "code",
   "execution_count": 79,
   "id": "00809e8a",
   "metadata": {},
   "outputs": [
    {
     "data": {
      "text/plain": [
       "False"
      ]
     },
     "execution_count": 79,
     "metadata": {},
     "output_type": "execute_result"
    }
   ],
   "source": [
    "trainer.global_model.state_dict()['last.weight'].requires_grad "
   ]
  },
  {
   "cell_type": "code",
   "execution_count": 86,
   "id": "3770ec45",
   "metadata": {},
   "outputs": [
    {
     "name": "stdout",
     "output_type": "stream",
     "text": [
      "number of params: 89715556\n",
      "non trainable parameters 89715556\n",
      "percent of train paramters  100.0\n"
     ]
    }
   ],
   "source": [
    "# for n, p in trainer.global_model.named_parameters():\n",
    "#     if \"feat\" in n:\n",
    "#         p.requires_grad = False\n",
    "#     else: \n",
    "#         print(n)\n",
    "n_parameters = sum(p.numel() for p in trainer.client_learner[0].model.parameters() if p.requires_grad)\n",
    "total_parameters = sum(p.numel() for p in trainer.global_model.parameters())\n",
    "\n",
    "\n",
    "print('number of params:', n_parameters)\n",
    "print('non trainable parameters', total_parameters)\n",
    "print(\"percent of train paramters \", n_parameters/ total_parameters * 100)\n",
    "\n",
    "\n"
   ]
  },
  {
   "cell_type": "code",
   "execution_count": 87,
   "id": "709b1a39",
   "metadata": {},
   "outputs": [
    {
     "data": {
      "text/plain": [
       "DataParallel(\n",
       "  (module): ResNetZoo(\n",
       "    (last): Linear(in_features=768, out_features=100, bias=True)\n",
       "    (prompt): CodaPrompt()\n",
       "    (feat): VisionTransformer(\n",
       "      (patch_embed): PatchEmbed(\n",
       "        (proj): Conv2d(3, 768, kernel_size=(16, 16), stride=(16, 16))\n",
       "        (norm): Identity()\n",
       "      )\n",
       "      (pos_drop): Dropout(p=0.0, inplace=False)\n",
       "      (blocks): ModuleList(\n",
       "        (0): Block(\n",
       "          (norm1): LayerNorm((768,), eps=1e-06, elementwise_affine=True)\n",
       "          (attn): Attention(\n",
       "            (qkv): Linear(in_features=768, out_features=2304, bias=True)\n",
       "            (attn_drop): Dropout(p=0.0, inplace=False)\n",
       "            (proj): Linear(in_features=768, out_features=768, bias=True)\n",
       "            (proj_drop): Dropout(p=0.0, inplace=False)\n",
       "          )\n",
       "          (drop_path): Identity()\n",
       "          (norm2): LayerNorm((768,), eps=1e-06, elementwise_affine=True)\n",
       "          (mlp): Mlp(\n",
       "            (fc1): Linear(in_features=768, out_features=3072, bias=True)\n",
       "            (act): GELU(approximate='none')\n",
       "            (fc2): Linear(in_features=3072, out_features=768, bias=True)\n",
       "            (drop): Dropout(p=0.0, inplace=False)\n",
       "          )\n",
       "        )\n",
       "        (1): Block(\n",
       "          (norm1): LayerNorm((768,), eps=1e-06, elementwise_affine=True)\n",
       "          (attn): Attention(\n",
       "            (qkv): Linear(in_features=768, out_features=2304, bias=True)\n",
       "            (attn_drop): Dropout(p=0.0, inplace=False)\n",
       "            (proj): Linear(in_features=768, out_features=768, bias=True)\n",
       "            (proj_drop): Dropout(p=0.0, inplace=False)\n",
       "          )\n",
       "          (drop_path): Identity()\n",
       "          (norm2): LayerNorm((768,), eps=1e-06, elementwise_affine=True)\n",
       "          (mlp): Mlp(\n",
       "            (fc1): Linear(in_features=768, out_features=3072, bias=True)\n",
       "            (act): GELU(approximate='none')\n",
       "            (fc2): Linear(in_features=3072, out_features=768, bias=True)\n",
       "            (drop): Dropout(p=0.0, inplace=False)\n",
       "          )\n",
       "        )\n",
       "        (2): Block(\n",
       "          (norm1): LayerNorm((768,), eps=1e-06, elementwise_affine=True)\n",
       "          (attn): Attention(\n",
       "            (qkv): Linear(in_features=768, out_features=2304, bias=True)\n",
       "            (attn_drop): Dropout(p=0.0, inplace=False)\n",
       "            (proj): Linear(in_features=768, out_features=768, bias=True)\n",
       "            (proj_drop): Dropout(p=0.0, inplace=False)\n",
       "          )\n",
       "          (drop_path): Identity()\n",
       "          (norm2): LayerNorm((768,), eps=1e-06, elementwise_affine=True)\n",
       "          (mlp): Mlp(\n",
       "            (fc1): Linear(in_features=768, out_features=3072, bias=True)\n",
       "            (act): GELU(approximate='none')\n",
       "            (fc2): Linear(in_features=3072, out_features=768, bias=True)\n",
       "            (drop): Dropout(p=0.0, inplace=False)\n",
       "          )\n",
       "        )\n",
       "        (3): Block(\n",
       "          (norm1): LayerNorm((768,), eps=1e-06, elementwise_affine=True)\n",
       "          (attn): Attention(\n",
       "            (qkv): Linear(in_features=768, out_features=2304, bias=True)\n",
       "            (attn_drop): Dropout(p=0.0, inplace=False)\n",
       "            (proj): Linear(in_features=768, out_features=768, bias=True)\n",
       "            (proj_drop): Dropout(p=0.0, inplace=False)\n",
       "          )\n",
       "          (drop_path): Identity()\n",
       "          (norm2): LayerNorm((768,), eps=1e-06, elementwise_affine=True)\n",
       "          (mlp): Mlp(\n",
       "            (fc1): Linear(in_features=768, out_features=3072, bias=True)\n",
       "            (act): GELU(approximate='none')\n",
       "            (fc2): Linear(in_features=3072, out_features=768, bias=True)\n",
       "            (drop): Dropout(p=0.0, inplace=False)\n",
       "          )\n",
       "        )\n",
       "        (4): Block(\n",
       "          (norm1): LayerNorm((768,), eps=1e-06, elementwise_affine=True)\n",
       "          (attn): Attention(\n",
       "            (qkv): Linear(in_features=768, out_features=2304, bias=True)\n",
       "            (attn_drop): Dropout(p=0.0, inplace=False)\n",
       "            (proj): Linear(in_features=768, out_features=768, bias=True)\n",
       "            (proj_drop): Dropout(p=0.0, inplace=False)\n",
       "          )\n",
       "          (drop_path): Identity()\n",
       "          (norm2): LayerNorm((768,), eps=1e-06, elementwise_affine=True)\n",
       "          (mlp): Mlp(\n",
       "            (fc1): Linear(in_features=768, out_features=3072, bias=True)\n",
       "            (act): GELU(approximate='none')\n",
       "            (fc2): Linear(in_features=3072, out_features=768, bias=True)\n",
       "            (drop): Dropout(p=0.0, inplace=False)\n",
       "          )\n",
       "        )\n",
       "        (5): Block(\n",
       "          (norm1): LayerNorm((768,), eps=1e-06, elementwise_affine=True)\n",
       "          (attn): Attention(\n",
       "            (qkv): Linear(in_features=768, out_features=2304, bias=True)\n",
       "            (attn_drop): Dropout(p=0.0, inplace=False)\n",
       "            (proj): Linear(in_features=768, out_features=768, bias=True)\n",
       "            (proj_drop): Dropout(p=0.0, inplace=False)\n",
       "          )\n",
       "          (drop_path): Identity()\n",
       "          (norm2): LayerNorm((768,), eps=1e-06, elementwise_affine=True)\n",
       "          (mlp): Mlp(\n",
       "            (fc1): Linear(in_features=768, out_features=3072, bias=True)\n",
       "            (act): GELU(approximate='none')\n",
       "            (fc2): Linear(in_features=3072, out_features=768, bias=True)\n",
       "            (drop): Dropout(p=0.0, inplace=False)\n",
       "          )\n",
       "        )\n",
       "        (6): Block(\n",
       "          (norm1): LayerNorm((768,), eps=1e-06, elementwise_affine=True)\n",
       "          (attn): Attention(\n",
       "            (qkv): Linear(in_features=768, out_features=2304, bias=True)\n",
       "            (attn_drop): Dropout(p=0.0, inplace=False)\n",
       "            (proj): Linear(in_features=768, out_features=768, bias=True)\n",
       "            (proj_drop): Dropout(p=0.0, inplace=False)\n",
       "          )\n",
       "          (drop_path): Identity()\n",
       "          (norm2): LayerNorm((768,), eps=1e-06, elementwise_affine=True)\n",
       "          (mlp): Mlp(\n",
       "            (fc1): Linear(in_features=768, out_features=3072, bias=True)\n",
       "            (act): GELU(approximate='none')\n",
       "            (fc2): Linear(in_features=3072, out_features=768, bias=True)\n",
       "            (drop): Dropout(p=0.0, inplace=False)\n",
       "          )\n",
       "        )\n",
       "        (7): Block(\n",
       "          (norm1): LayerNorm((768,), eps=1e-06, elementwise_affine=True)\n",
       "          (attn): Attention(\n",
       "            (qkv): Linear(in_features=768, out_features=2304, bias=True)\n",
       "            (attn_drop): Dropout(p=0.0, inplace=False)\n",
       "            (proj): Linear(in_features=768, out_features=768, bias=True)\n",
       "            (proj_drop): Dropout(p=0.0, inplace=False)\n",
       "          )\n",
       "          (drop_path): Identity()\n",
       "          (norm2): LayerNorm((768,), eps=1e-06, elementwise_affine=True)\n",
       "          (mlp): Mlp(\n",
       "            (fc1): Linear(in_features=768, out_features=3072, bias=True)\n",
       "            (act): GELU(approximate='none')\n",
       "            (fc2): Linear(in_features=3072, out_features=768, bias=True)\n",
       "            (drop): Dropout(p=0.0, inplace=False)\n",
       "          )\n",
       "        )\n",
       "        (8): Block(\n",
       "          (norm1): LayerNorm((768,), eps=1e-06, elementwise_affine=True)\n",
       "          (attn): Attention(\n",
       "            (qkv): Linear(in_features=768, out_features=2304, bias=True)\n",
       "            (attn_drop): Dropout(p=0.0, inplace=False)\n",
       "            (proj): Linear(in_features=768, out_features=768, bias=True)\n",
       "            (proj_drop): Dropout(p=0.0, inplace=False)\n",
       "          )\n",
       "          (drop_path): Identity()\n",
       "          (norm2): LayerNorm((768,), eps=1e-06, elementwise_affine=True)\n",
       "          (mlp): Mlp(\n",
       "            (fc1): Linear(in_features=768, out_features=3072, bias=True)\n",
       "            (act): GELU(approximate='none')\n",
       "            (fc2): Linear(in_features=3072, out_features=768, bias=True)\n",
       "            (drop): Dropout(p=0.0, inplace=False)\n",
       "          )\n",
       "        )\n",
       "        (9): Block(\n",
       "          (norm1): LayerNorm((768,), eps=1e-06, elementwise_affine=True)\n",
       "          (attn): Attention(\n",
       "            (qkv): Linear(in_features=768, out_features=2304, bias=True)\n",
       "            (attn_drop): Dropout(p=0.0, inplace=False)\n",
       "            (proj): Linear(in_features=768, out_features=768, bias=True)\n",
       "            (proj_drop): Dropout(p=0.0, inplace=False)\n",
       "          )\n",
       "          (drop_path): Identity()\n",
       "          (norm2): LayerNorm((768,), eps=1e-06, elementwise_affine=True)\n",
       "          (mlp): Mlp(\n",
       "            (fc1): Linear(in_features=768, out_features=3072, bias=True)\n",
       "            (act): GELU(approximate='none')\n",
       "            (fc2): Linear(in_features=3072, out_features=768, bias=True)\n",
       "            (drop): Dropout(p=0.0, inplace=False)\n",
       "          )\n",
       "        )\n",
       "        (10): Block(\n",
       "          (norm1): LayerNorm((768,), eps=1e-06, elementwise_affine=True)\n",
       "          (attn): Attention(\n",
       "            (qkv): Linear(in_features=768, out_features=2304, bias=True)\n",
       "            (attn_drop): Dropout(p=0.0, inplace=False)\n",
       "            (proj): Linear(in_features=768, out_features=768, bias=True)\n",
       "            (proj_drop): Dropout(p=0.0, inplace=False)\n",
       "          )\n",
       "          (drop_path): Identity()\n",
       "          (norm2): LayerNorm((768,), eps=1e-06, elementwise_affine=True)\n",
       "          (mlp): Mlp(\n",
       "            (fc1): Linear(in_features=768, out_features=3072, bias=True)\n",
       "            (act): GELU(approximate='none')\n",
       "            (fc2): Linear(in_features=3072, out_features=768, bias=True)\n",
       "            (drop): Dropout(p=0.0, inplace=False)\n",
       "          )\n",
       "        )\n",
       "        (11): Block(\n",
       "          (norm1): LayerNorm((768,), eps=1e-06, elementwise_affine=True)\n",
       "          (attn): Attention(\n",
       "            (qkv): Linear(in_features=768, out_features=2304, bias=True)\n",
       "            (attn_drop): Dropout(p=0.0, inplace=False)\n",
       "            (proj): Linear(in_features=768, out_features=768, bias=True)\n",
       "            (proj_drop): Dropout(p=0.0, inplace=False)\n",
       "          )\n",
       "          (drop_path): Identity()\n",
       "          (norm2): LayerNorm((768,), eps=1e-06, elementwise_affine=True)\n",
       "          (mlp): Mlp(\n",
       "            (fc1): Linear(in_features=768, out_features=3072, bias=True)\n",
       "            (act): GELU(approximate='none')\n",
       "            (fc2): Linear(in_features=3072, out_features=768, bias=True)\n",
       "            (drop): Dropout(p=0.0, inplace=False)\n",
       "          )\n",
       "        )\n",
       "      )\n",
       "      (norm): LayerNorm((768,), eps=1e-06, elementwise_affine=True)\n",
       "    )\n",
       "  )\n",
       ")"
      ]
     },
     "execution_count": 87,
     "metadata": {},
     "output_type": "execute_result"
    }
   ],
   "source": [
    "trainer.client_learner[0].model"
   ]
  },
  {
   "cell_type": "code",
   "execution_count": 100,
   "id": "d248736e",
   "metadata": {},
   "outputs": [
    {
     "data": {
      "text/plain": [
       "tensor([[-0.0116,  0.0209, -0.0117,  ...,  0.0092, -0.0010, -0.0191],\n",
       "        [ 0.0180, -0.0106,  0.0276,  ..., -0.0255,  0.0311, -0.0115],\n",
       "        [-0.0071, -0.0303,  0.0098,  ..., -0.0272,  0.0071, -0.0046],\n",
       "        ...,\n",
       "        [ 0.0086,  0.0026, -0.0294,  ...,  0.0332, -0.0155,  0.0323],\n",
       "        [-0.0157, -0.0234, -0.0139,  ...,  0.0330, -0.0062,  0.0076],\n",
       "        [-0.0014, -0.0177, -0.0151,  ..., -0.0210, -0.0358,  0.0140]])"
      ]
     },
     "execution_count": 100,
     "metadata": {},
     "output_type": "execute_result"
    }
   ],
   "source": [
    "trainer.global_model.state_dict()['last.weight']"
   ]
  },
  {
   "cell_type": "code",
   "execution_count": 109,
   "id": "f7254d1e",
   "metadata": {},
   "outputs": [],
   "source": [
    "for n,p in trainer.client_learner[0].model.named_parameters():\n",
    "    a += torch.sum(trainer.client_learner[0].model.state_dict()[str(n)] - trainer.client_learner[0].model.state_dict()[str(n)])"
   ]
  },
  {
   "cell_type": "code",
   "execution_count": 129,
   "id": "0ac41751",
   "metadata": {},
   "outputs": [],
   "source": [
    "tasks = []\n",
    "tasks_logits = []\n",
    "p = 0\n",
    "max_task = -1\n",
    "other_split_size = 10 \n",
    "first_split_size = 10 \n",
    "num_classes = 100 \n",
    "class_order = np.arange(num_classes).tolist()\n",
    "class_order_logits = np.arange(num_classes).tolist()\n",
    "rand_split = True\n",
    "\n",
    "if seed > 0 and rand_split:\n",
    "    print('=============================================')\n",
    "    print('Shuffling....')\n",
    "    print('pre-shuffle:' + str(class_order))\n",
    "    random.seed(seed)\n",
    "    random.shuffle(class_order)\n",
    "    print('post-shuffle:' + str(class_order))\n",
    "    print('=============================================')\n",
    "            \n",
    "            \n",
    "while p < num_classes and (max_task == -1 or len(tasks) < max_task):\n",
    "    inc = other_split_size if p > 0 else first_split_size\n",
    "    tasks.append(class_order[p:p + inc])\n",
    "    tasks_logits.append(class_order_logits[p:p + inc])\n",
    "    p += inc\n",
    "num_tasks = len(tasks)\n",
    "task_names = [str(i + 1) for i in range(num_tasks)]\n"
   ]
  },
  {
   "cell_type": "code",
   "execution_count": 144,
   "id": "c1d7e3ae",
   "metadata": {},
   "outputs": [
    {
     "data": {
      "text/plain": [
       "[[0, 1, 2, 3, 4, 5, 6, 7, 8, 9],\n",
       " [10, 11, 12, 13, 14, 15, 16, 17, 18, 19],\n",
       " [20, 21, 22, 23, 24, 25, 26, 27, 28, 29],\n",
       " [30, 31, 32, 33, 34, 35, 36, 37, 38, 39],\n",
       " [40, 41, 42, 43, 44, 45, 46, 47, 48, 49],\n",
       " [50, 51, 52, 53, 54, 55, 56, 57, 58, 59],\n",
       " [60, 61, 62, 63, 64, 65, 66, 67, 68, 69],\n",
       " [70, 71, 72, 73, 74, 75, 76, 77, 78, 79],\n",
       " [80, 81, 82, 83, 84, 85, 86, 87, 88, 89],\n",
       " [90, 91, 92, 93, 94, 95, 96, 97, 98, 99]]"
      ]
     },
     "execution_count": 144,
     "metadata": {},
     "output_type": "execute_result"
    }
   ],
   "source": [
    "tasks"
   ]
  },
  {
   "cell_type": "code",
   "execution_count": 145,
   "id": "ec36b821",
   "metadata": {},
   "outputs": [
    {
     "name": "stdout",
     "output_type": "stream",
     "text": [
      "Files already downloaded and verified\n",
      "Files already downloaded and verified\n"
     ]
    }
   ],
   "source": [
    "train_dataset = dataloader.iCIFAR100_Fed(root= \"data\", train = True,\n",
    "                                         num_clients = 10,\n",
    "                                         iid  = 0, \n",
    "                                        download_Flag = True,\n",
    "                                        use_validation=False,\n",
    "                                         tasks=tasks\n",
    "                                        )\n",
    "test_dataset = dataloader.iCIFAR100_Fed(root= \"data\", train = False,\n",
    "                                         num_clients = 10,\n",
    "                                         iid  = 0, \n",
    "                                        download_Flag = True,\n",
    "                                        use_validation=False,\n",
    "                                         tasks=tasks\n",
    "                                        )"
   ]
  },
  {
   "cell_type": "code",
   "execution_count": 146,
   "id": "15809567",
   "metadata": {},
   "outputs": [
    {
     "data": {
      "text/plain": [
       "Dataset iCIFAR100_Fed\n",
       "    Number of datapoints: 50000\n",
       "    Split: train\n",
       "    Root Location: data\n",
       "    Transforms (if any): None"
      ]
     },
     "execution_count": 146,
     "metadata": {},
     "output_type": "execute_result"
    }
   ],
   "source": [
    "train_dataset"
   ]
  },
  {
   "cell_type": "code",
   "execution_count": 139,
   "id": "7fdfb1b2",
   "metadata": {},
   "outputs": [
    {
     "name": "stdout",
     "output_type": "stream",
     "text": [
      "targets in dataloader [0 1 2 3 4 5 6 7 8 9]\n"
     ]
    }
   ],
   "source": [
    "train_dataset = train_dataset.load_dataset(t=0 , train= True, client= 0)"
   ]
  },
  {
   "cell_type": "code",
   "execution_count": 141,
   "id": "5b480b9b",
   "metadata": {},
   "outputs": [],
   "source": [
    "from torch.utils.data import DataLoader\n",
    "\n",
    "\n",
    "t_loader = DataLoader(train_dataset, shuffle=False, batch_size=64, num_workers= 10)"
   ]
  },
  {
   "cell_type": "code",
   "execution_count": 142,
   "id": "420d6416",
   "metadata": {},
   "outputs": [
    {
     "ename": "TypeError",
     "evalue": "object of type 'NoneType' has no len()",
     "output_type": "error",
     "traceback": [
      "\u001b[0;31m---------------------------------------------------------------------------\u001b[0m",
      "\u001b[0;31mTypeError\u001b[0m                                 Traceback (most recent call last)",
      "Cell \u001b[0;32mIn[142], line 1\u001b[0m\n\u001b[0;32m----> 1\u001b[0m \u001b[39mfor\u001b[39;00m i, (img, labels) \u001b[39min\u001b[39;00m \u001b[39menumerate\u001b[39;49m(t_loader):\n\u001b[1;32m      2\u001b[0m     \u001b[39mprint\u001b[39m(labels)\n",
      "File \u001b[0;32m~/miniconda3/envs/promptFCL/lib/python3.10/site-packages/torch/utils/data/dataloader.py:435\u001b[0m, in \u001b[0;36mDataLoader.__iter__\u001b[0;34m(self)\u001b[0m\n\u001b[1;32m    433\u001b[0m     \u001b[39mreturn\u001b[39;00m \u001b[39mself\u001b[39m\u001b[39m.\u001b[39m_iterator\n\u001b[1;32m    434\u001b[0m \u001b[39melse\u001b[39;00m:\n\u001b[0;32m--> 435\u001b[0m     \u001b[39mreturn\u001b[39;00m \u001b[39mself\u001b[39;49m\u001b[39m.\u001b[39;49m_get_iterator()\n",
      "File \u001b[0;32m~/miniconda3/envs/promptFCL/lib/python3.10/site-packages/torch/utils/data/dataloader.py:381\u001b[0m, in \u001b[0;36mDataLoader._get_iterator\u001b[0;34m(self)\u001b[0m\n\u001b[1;32m    379\u001b[0m \u001b[39melse\u001b[39;00m:\n\u001b[1;32m    380\u001b[0m     \u001b[39mself\u001b[39m\u001b[39m.\u001b[39mcheck_worker_number_rationality()\n\u001b[0;32m--> 381\u001b[0m     \u001b[39mreturn\u001b[39;00m _MultiProcessingDataLoaderIter(\u001b[39mself\u001b[39;49m)\n",
      "File \u001b[0;32m~/miniconda3/envs/promptFCL/lib/python3.10/site-packages/torch/utils/data/dataloader.py:1072\u001b[0m, in \u001b[0;36m_MultiProcessingDataLoaderIter.__init__\u001b[0;34m(self, loader)\u001b[0m\n\u001b[1;32m   1070\u001b[0m _utils\u001b[39m.\u001b[39msignal_handling\u001b[39m.\u001b[39m_set_SIGCHLD_handler()\n\u001b[1;32m   1071\u001b[0m \u001b[39mself\u001b[39m\u001b[39m.\u001b[39m_worker_pids_set \u001b[39m=\u001b[39m \u001b[39mTrue\u001b[39;00m\n\u001b[0;32m-> 1072\u001b[0m \u001b[39mself\u001b[39;49m\u001b[39m.\u001b[39;49m_reset(loader, first_iter\u001b[39m=\u001b[39;49m\u001b[39mTrue\u001b[39;49;00m)\n",
      "File \u001b[0;32m~/miniconda3/envs/promptFCL/lib/python3.10/site-packages/torch/utils/data/dataloader.py:1105\u001b[0m, in \u001b[0;36m_MultiProcessingDataLoaderIter._reset\u001b[0;34m(self, loader, first_iter)\u001b[0m\n\u001b[1;32m   1103\u001b[0m \u001b[39m# prime the prefetch loop\u001b[39;00m\n\u001b[1;32m   1104\u001b[0m \u001b[39mfor\u001b[39;00m _ \u001b[39min\u001b[39;00m \u001b[39mrange\u001b[39m(\u001b[39mself\u001b[39m\u001b[39m.\u001b[39m_prefetch_factor \u001b[39m*\u001b[39m \u001b[39mself\u001b[39m\u001b[39m.\u001b[39m_num_workers):\n\u001b[0;32m-> 1105\u001b[0m     \u001b[39mself\u001b[39;49m\u001b[39m.\u001b[39;49m_try_put_index()\n",
      "File \u001b[0;32m~/miniconda3/envs/promptFCL/lib/python3.10/site-packages/torch/utils/data/dataloader.py:1339\u001b[0m, in \u001b[0;36m_MultiProcessingDataLoaderIter._try_put_index\u001b[0;34m(self)\u001b[0m\n\u001b[1;32m   1336\u001b[0m \u001b[39massert\u001b[39;00m \u001b[39mself\u001b[39m\u001b[39m.\u001b[39m_tasks_outstanding \u001b[39m<\u001b[39m \u001b[39mself\u001b[39m\u001b[39m.\u001b[39m_prefetch_factor \u001b[39m*\u001b[39m \u001b[39mself\u001b[39m\u001b[39m.\u001b[39m_num_workers\n\u001b[1;32m   1338\u001b[0m \u001b[39mtry\u001b[39;00m:\n\u001b[0;32m-> 1339\u001b[0m     index \u001b[39m=\u001b[39m \u001b[39mself\u001b[39;49m\u001b[39m.\u001b[39;49m_next_index()\n\u001b[1;32m   1340\u001b[0m \u001b[39mexcept\u001b[39;00m \u001b[39mStopIteration\u001b[39;00m:\n\u001b[1;32m   1341\u001b[0m     \u001b[39mreturn\u001b[39;00m\n",
      "File \u001b[0;32m~/miniconda3/envs/promptFCL/lib/python3.10/site-packages/torch/utils/data/dataloader.py:618\u001b[0m, in \u001b[0;36m_BaseDataLoaderIter._next_index\u001b[0;34m(self)\u001b[0m\n\u001b[1;32m    617\u001b[0m \u001b[39mdef\u001b[39;00m \u001b[39m_next_index\u001b[39m(\u001b[39mself\u001b[39m):\n\u001b[0;32m--> 618\u001b[0m     \u001b[39mreturn\u001b[39;00m \u001b[39mnext\u001b[39;49m(\u001b[39mself\u001b[39;49m\u001b[39m.\u001b[39;49m_sampler_iter)\n",
      "File \u001b[0;32m~/miniconda3/envs/promptFCL/lib/python3.10/site-packages/torch/utils/data/sampler.py:254\u001b[0m, in \u001b[0;36mBatchSampler.__iter__\u001b[0;34m(self)\u001b[0m\n\u001b[1;32m    252\u001b[0m batch \u001b[39m=\u001b[39m [\u001b[39m0\u001b[39m] \u001b[39m*\u001b[39m \u001b[39mself\u001b[39m\u001b[39m.\u001b[39mbatch_size\n\u001b[1;32m    253\u001b[0m idx_in_batch \u001b[39m=\u001b[39m \u001b[39m0\u001b[39m\n\u001b[0;32m--> 254\u001b[0m \u001b[39mfor\u001b[39;00m idx \u001b[39min\u001b[39;00m \u001b[39mself\u001b[39m\u001b[39m.\u001b[39msampler:\n\u001b[1;32m    255\u001b[0m     batch[idx_in_batch] \u001b[39m=\u001b[39m idx\n\u001b[1;32m    256\u001b[0m     idx_in_batch \u001b[39m+\u001b[39m\u001b[39m=\u001b[39m \u001b[39m1\u001b[39m\n",
      "File \u001b[0;32m~/miniconda3/envs/promptFCL/lib/python3.10/site-packages/torch/utils/data/sampler.py:76\u001b[0m, in \u001b[0;36mSequentialSampler.__iter__\u001b[0;34m(self)\u001b[0m\n\u001b[1;32m     75\u001b[0m \u001b[39mdef\u001b[39;00m \u001b[39m__iter__\u001b[39m(\u001b[39mself\u001b[39m) \u001b[39m-\u001b[39m\u001b[39m>\u001b[39m Iterator[\u001b[39mint\u001b[39m]:\n\u001b[0;32m---> 76\u001b[0m     \u001b[39mreturn\u001b[39;00m \u001b[39miter\u001b[39m(\u001b[39mrange\u001b[39m(\u001b[39mlen\u001b[39;49m(\u001b[39mself\u001b[39;49m\u001b[39m.\u001b[39;49mdata_source)))\n",
      "\u001b[0;31mTypeError\u001b[0m: object of type 'NoneType' has no len()"
     ]
    }
   ],
   "source": [
    "for i, (img, labels) in enumerate(t_loader):\n",
    "    print(labels)"
   ]
  },
  {
   "cell_type": "code",
   "execution_count": 153,
   "id": "c02c16ac",
   "metadata": {},
   "outputs": [
    {
     "data": {
      "text/plain": [
       "tensor([[[ 1.1485e-02, -1.4416e-02, -8.5118e-03,  ...,  1.2651e-02,\n",
       "           1.4767e-02, -1.1450e-04],\n",
       "         [-1.2738e-02,  2.7810e-03, -3.7306e-03,  ...,  1.8706e-02,\n",
       "          -1.3505e-03,  7.3955e-03],\n",
       "         [ 2.6154e-02, -1.6817e-03,  1.3681e-02,  ...,  3.0675e-03,\n",
       "           1.2262e-02, -4.6266e-03],\n",
       "         ...,\n",
       "         [-5.5782e-03,  8.7524e-03,  3.8176e-03,  ..., -5.1857e-03,\n",
       "          -1.8223e-02, -5.2673e-03],\n",
       "         [-4.2082e-03,  2.5352e-02, -3.9754e-03,  ..., -3.5539e-03,\n",
       "          -7.8829e-04, -2.4823e-02],\n",
       "         [ 6.0424e-04,  5.8550e-03,  1.9277e-02,  ...,  1.1833e-03,\n",
       "           3.7947e-03,  2.2452e-03]],\n",
       "\n",
       "        [[ 8.6168e-03,  9.0098e-04, -1.0156e-02,  ..., -2.3238e-02,\n",
       "           1.6903e-02, -2.1711e-02],\n",
       "         [ 8.7307e-03, -9.6278e-03,  9.7372e-03,  ..., -1.9235e-02,\n",
       "          -2.0337e-03,  2.1445e-02],\n",
       "         [-9.7899e-03,  3.1977e-03,  6.1610e-03,  ...,  2.2803e-02,\n",
       "          -2.0640e-02, -5.5363e-03],\n",
       "         ...,\n",
       "         [-2.4789e-02,  2.0302e-03, -6.6344e-03,  ...,  4.9639e-03,\n",
       "          -1.4440e-02, -5.0262e-03],\n",
       "         [ 7.1021e-03, -1.0803e-02,  3.2174e-03,  ...,  2.6917e-03,\n",
       "           7.2629e-03, -1.0250e-02],\n",
       "         [ 1.1588e-02,  9.1429e-03, -9.4048e-03,  ...,  1.7979e-02,\n",
       "          -7.9728e-03, -1.1622e-02]],\n",
       "\n",
       "        [[ 1.2221e-02,  2.0855e-02, -4.5941e-03,  ...,  1.4483e-02,\n",
       "           1.1481e-02, -6.9854e-04],\n",
       "         [-6.7805e-03, -1.0146e-02, -1.4172e-02,  ..., -1.9398e-02,\n",
       "          -3.7612e-03,  2.5779e-02],\n",
       "         [-3.7065e-03,  9.9750e-03, -5.9646e-03,  ..., -3.7915e-03,\n",
       "          -4.1922e-03, -1.9576e-02],\n",
       "         ...,\n",
       "         [-9.8881e-03, -1.7179e-02,  3.6873e-03,  ..., -5.4837e-03,\n",
       "           1.4812e-02,  5.9103e-03],\n",
       "         [-5.9689e-03,  4.8944e-03,  8.8217e-03,  ..., -2.9997e-03,\n",
       "          -1.4857e-02, -1.0178e-02],\n",
       "         [-1.3655e-03,  1.3694e-02, -1.1665e-03,  ...,  1.5157e-02,\n",
       "          -3.8532e-03,  1.9832e-02]],\n",
       "\n",
       "        ...,\n",
       "\n",
       "        [[ 2.1660e-03, -2.9380e-02, -5.3196e-03,  ..., -1.5957e-02,\n",
       "           2.5735e-03, -9.6299e-03],\n",
       "         [-9.2157e-03, -1.2741e-02, -1.7824e-03,  ...,  2.3647e-04,\n",
       "           2.7531e-03, -3.4815e-03],\n",
       "         [-2.4134e-02,  1.2429e-02,  1.1042e-02,  ...,  8.6112e-03,\n",
       "          -9.7672e-03, -8.3166e-03],\n",
       "         ...,\n",
       "         [ 4.6113e-03, -2.6627e-02,  5.1994e-03,  ..., -4.7070e-03,\n",
       "          -2.4410e-03, -1.4265e-02],\n",
       "         [-4.7805e-03,  4.8582e-03,  1.5892e-02,  ..., -1.9864e-02,\n",
       "           2.7977e-03,  9.2262e-04],\n",
       "         [-1.8157e-02, -1.1301e-02, -5.2639e-03,  ...,  1.7972e-03,\n",
       "          -4.6653e-03, -9.2417e-03]],\n",
       "\n",
       "        [[ 5.4973e-05,  4.2598e-03,  1.2521e-02,  ...,  7.8277e-03,\n",
       "           6.6399e-03, -5.4432e-03],\n",
       "         [-6.0257e-03,  3.0418e-02,  4.7209e-03,  ..., -9.2454e-05,\n",
       "          -8.5442e-03, -6.8117e-03],\n",
       "         [-4.8754e-03,  2.7012e-03,  2.9415e-03,  ...,  1.4036e-02,\n",
       "          -1.4635e-02,  1.0098e-03],\n",
       "         ...,\n",
       "         [ 1.5080e-02,  2.4623e-04,  2.6324e-02,  ...,  1.3558e-02,\n",
       "          -8.0607e-03,  1.9994e-02],\n",
       "         [-1.4115e-02, -6.8699e-03, -1.3979e-02,  ..., -1.8060e-02,\n",
       "           1.4738e-02, -1.6358e-02],\n",
       "         [ 3.5123e-03, -6.7162e-03,  4.1622e-03,  ..., -5.7126e-04,\n",
       "           1.3432e-03, -1.7330e-02]],\n",
       "\n",
       "        [[ 1.0607e-02,  1.7896e-02,  1.7369e-03,  ..., -5.2926e-03,\n",
       "          -1.5568e-02,  1.6756e-02],\n",
       "         [-4.0263e-03,  1.9964e-02, -1.7254e-03,  ...,  1.0104e-02,\n",
       "           1.3310e-02,  4.3339e-03],\n",
       "         [ 5.5375e-03, -8.5279e-03,  1.3334e-02,  ...,  9.2468e-03,\n",
       "           7.8627e-03, -6.3065e-03],\n",
       "         ...,\n",
       "         [-2.3095e-02, -2.4671e-03,  1.3667e-02,  ...,  2.4851e-03,\n",
       "          -1.3120e-02,  6.4892e-03],\n",
       "         [ 1.8053e-02, -4.5246e-03, -1.8205e-02,  ..., -2.8970e-02,\n",
       "          -5.1990e-03,  1.7580e-02],\n",
       "         [ 7.6463e-04,  1.9282e-02, -3.3026e-03,  ...,  1.8008e-03,\n",
       "           1.7443e-02, -1.4870e-02]]])"
      ]
     },
     "execution_count": 153,
     "metadata": {},
     "output_type": "execute_result"
    }
   ],
   "source": [
    "trainer.global_model.state_dict()['prompt.e_p_1']\n",
    "#  ['prompt.e_p_3']\n"
   ]
  },
  {
   "cell_type": "code",
   "execution_count": null,
   "id": "b5cd2975",
   "metadata": {},
   "outputs": [],
   "source": []
  }
 ],
 "metadata": {
  "kernelspec": {
   "display_name": "promptFCL",
   "language": "python",
   "name": "python3"
  },
  "language_info": {
   "codemirror_mode": {
    "name": "ipython",
    "version": 3
   },
   "file_extension": ".py",
   "mimetype": "text/x-python",
   "name": "python",
   "nbconvert_exporter": "python",
   "pygments_lexer": "ipython3",
   "version": "3.10.9"
  },
  "vscode": {
   "interpreter": {
    "hash": "706466e2cd6ba47dc72a23aff5b4b412fa3e343d00dce46686a6ac93eab9d9be"
   }
  }
 },
 "nbformat": 4,
 "nbformat_minor": 5
}

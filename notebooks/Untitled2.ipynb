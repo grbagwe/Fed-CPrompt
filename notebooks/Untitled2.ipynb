{
 "cells": [
  {
   "cell_type": "code",
   "execution_count": 3,
   "id": "6b9a7fe5",
   "metadata": {},
   "outputs": [],
   "source": [
    "import torch\n",
    "import numpy as np\n"
   ]
  },
  {
   "cell_type": "code",
   "execution_count": 22,
   "id": "c07a8842",
   "metadata": {},
   "outputs": [],
   "source": [
    "numerator = torch.exp(torch.tensor((1,1))/2)\n",
    "denominator = torch.exp(torch.tensor((1,1))/2) + (torch.exp(torch.tensor((0.1,1))/2) + torch.exp(torch.tensor((1,1))/2))/2\n",
    "c2loss = -torch.log(numerator/denominator)"
   ]
  },
  {
   "cell_type": "code",
   "execution_count": 23,
   "id": "2a9d9c9b",
   "metadata": {},
   "outputs": [
    {
     "data": {
      "text/plain": [
       "tensor([0.5982, 0.6931])"
      ]
     },
     "execution_count": 23,
     "metadata": {},
     "output_type": "execute_result"
    }
   ],
   "source": [
    "c2loss"
   ]
  },
  {
   "cell_type": "code",
   "execution_count": null,
   "id": "5568f290",
   "metadata": {},
   "outputs": [],
   "source": []
  }
 ],
 "metadata": {
  "kernelspec": {
   "display_name": "Python [conda env:fedconlearn] *",
   "language": "python",
   "name": "conda-env-fedconlearn-py"
  },
  "language_info": {
   "codemirror_mode": {
    "name": "ipython",
    "version": 3
   },
   "file_extension": ".py",
   "mimetype": "text/x-python",
   "name": "python",
   "nbconvert_exporter": "python",
   "pygments_lexer": "ipython3",
   "version": "3.8.13"
  }
 },
 "nbformat": 4,
 "nbformat_minor": 5
}

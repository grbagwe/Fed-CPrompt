{
 "cells": [
  {
   "cell_type": "code",
   "execution_count": 1,
   "id": "475ad4f5",
   "metadata": {},
   "outputs": [
    {
     "name": "stderr",
     "output_type": "stream",
     "text": [
      "/home/grbagwe/miniconda3/envs/promptFCL/lib/python3.10/site-packages/tqdm/auto.py:22: TqdmWarning: IProgress not found. Please update jupyter and ipywidgets. See https://ipywidgets.readthedocs.io/en/stable/user_install.html\n",
      "  from .autonotebook import tqdm as notebook_tqdm\n"
     ]
    }
   ],
   "source": [
    "import os, sys\n",
    "# module_path = os.path.abspath(os.path.join('../../Prompt-based-class-incremental-learning-in-Federated-Learning/CODA_Prompt_CVPR2023_Code/'))\n",
    "module_path = os.path.abspath(os.path.join('..'))\n",
    "\n",
    "if module_path not in sys.path:\n",
    "    sys.path.append(module_path)\n",
    "import torch, torchvision, numpy as np\n",
    "from dataloaders import dataloader\n",
    "from dataloaders.dataloader import iCIFAR100_Fed\n",
    "import random"
   ]
  },
  {
   "cell_type": "code",
   "execution_count": 3,
   "id": "4bbfea8f",
   "metadata": {},
   "outputs": [],
   "source": [
    "seed = 0\n",
    "np.random.seed(seed)\n",
    "torch.manual_seed(seed)\n",
    "random.seed(seed)\n",
    "torch.cuda.manual_seed(seed)"
   ]
  },
  {
   "cell_type": "code",
   "execution_count": 4,
   "id": "d5bc0188",
   "metadata": {
    "scrolled": true
   },
   "outputs": [],
   "source": [
    "tasks = []\n",
    "tasks_logits = []\n",
    "p = 0\n",
    "max_task = -1\n",
    "other_split_size = 10 \n",
    "first_split_size = 10 \n",
    "num_classes = 100 \n",
    "class_order = np.arange(num_classes).tolist()\n",
    "class_order_logits = np.arange(num_classes).tolist()\n",
    "rand_split = True\n",
    "\n",
    "if seed > 0 and rand_split:\n",
    "    print('=============================================')\n",
    "    print('Shuffling....')\n",
    "    print('pre-shuffle:' + str(class_order))\n",
    "    random.seed(seed)\n",
    "    random.shuffle(class_order)\n",
    "    print('post-shuffle:' + str(class_order))\n",
    "    print('=============================================')\n",
    "            \n",
    "            \n",
    "while p < num_classes and (max_task == -1 or len(tasks) < max_task):\n",
    "    inc = other_split_size if p > 0 else first_split_size\n",
    "    tasks.append(class_order[p:p + inc])\n",
    "    tasks_logits.append(class_order_logits[p:p + inc])\n",
    "    p += inc\n",
    "num_tasks = len(tasks)\n",
    "task_names = [str(i + 1) for i in range(num_tasks)]\n"
   ]
  },
  {
   "cell_type": "code",
   "execution_count": 5,
   "id": "4f1a66ea",
   "metadata": {},
   "outputs": [
    {
     "data": {
      "text/plain": [
       "[[0, 1, 2, 3, 4, 5, 6, 7, 8, 9],\n",
       " [10, 11, 12, 13, 14, 15, 16, 17, 18, 19],\n",
       " [20, 21, 22, 23, 24, 25, 26, 27, 28, 29],\n",
       " [30, 31, 32, 33, 34, 35, 36, 37, 38, 39],\n",
       " [40, 41, 42, 43, 44, 45, 46, 47, 48, 49],\n",
       " [50, 51, 52, 53, 54, 55, 56, 57, 58, 59],\n",
       " [60, 61, 62, 63, 64, 65, 66, 67, 68, 69],\n",
       " [70, 71, 72, 73, 74, 75, 76, 77, 78, 79],\n",
       " [80, 81, 82, 83, 84, 85, 86, 87, 88, 89],\n",
       " [90, 91, 92, 93, 94, 95, 96, 97, 98, 99]]"
      ]
     },
     "execution_count": 5,
     "metadata": {},
     "output_type": "execute_result"
    }
   ],
   "source": [
    "tasks"
   ]
  },
  {
   "cell_type": "code",
   "execution_count": 6,
   "id": "30ddfd22",
   "metadata": {},
   "outputs": [
    {
     "name": "stdout",
     "output_type": "stream",
     "text": [
      "Files already downloaded and verified\n",
      "Files already downloaded and verified\n"
     ]
    }
   ],
   "source": [
    "train_dataset = dataloader.iCIFAR100_Fed(root= \"data\", train = True,\n",
    "                                         num_clients = 10,\n",
    "                                         iid  = 0.5, \n",
    "                                        download_Flag = True,\n",
    "                                        use_validation=False,\n",
    "                                         tasks=tasks\n",
    "                                        )\n",
    "test_dataset = dataloader.iCIFAR100_Fed(root= \"data\", train = False,\n",
    "                                         num_clients = 10,\n",
    "                                         iid  = 0.5, \n",
    "                                        download_Flag = True,\n",
    "                                        use_validation=False,\n",
    "                                         tasks=tasks\n",
    "                                        )"
   ]
  },
  {
   "cell_type": "code",
   "execution_count": 7,
   "id": "a803c1ad",
   "metadata": {},
   "outputs": [
    {
     "data": {
      "text/plain": [
       "{-1: -1,\n",
       " 0: 0,\n",
       " 1: 1,\n",
       " 2: 2,\n",
       " 3: 3,\n",
       " 4: 4,\n",
       " 5: 5,\n",
       " 6: 6,\n",
       " 7: 7,\n",
       " 8: 8,\n",
       " 9: 9,\n",
       " 10: 10,\n",
       " 11: 11,\n",
       " 12: 12,\n",
       " 13: 13,\n",
       " 14: 14,\n",
       " 15: 15,\n",
       " 16: 16,\n",
       " 17: 17,\n",
       " 18: 18,\n",
       " 19: 19,\n",
       " 20: 20,\n",
       " 21: 21,\n",
       " 22: 22,\n",
       " 23: 23,\n",
       " 24: 24,\n",
       " 25: 25,\n",
       " 26: 26,\n",
       " 27: 27,\n",
       " 28: 28,\n",
       " 29: 29,\n",
       " 30: 30,\n",
       " 31: 31,\n",
       " 32: 32,\n",
       " 33: 33,\n",
       " 34: 34,\n",
       " 35: 35,\n",
       " 36: 36,\n",
       " 37: 37,\n",
       " 38: 38,\n",
       " 39: 39,\n",
       " 40: 40,\n",
       " 41: 41,\n",
       " 42: 42,\n",
       " 43: 43,\n",
       " 44: 44,\n",
       " 45: 45,\n",
       " 46: 46,\n",
       " 47: 47,\n",
       " 48: 48,\n",
       " 49: 49,\n",
       " 50: 50,\n",
       " 51: 51,\n",
       " 52: 52,\n",
       " 53: 53,\n",
       " 54: 54,\n",
       " 55: 55,\n",
       " 56: 56,\n",
       " 57: 57,\n",
       " 58: 58,\n",
       " 59: 59,\n",
       " 60: 60,\n",
       " 61: 61,\n",
       " 62: 62,\n",
       " 63: 63,\n",
       " 64: 64,\n",
       " 65: 65,\n",
       " 66: 66,\n",
       " 67: 67,\n",
       " 68: 68,\n",
       " 69: 69,\n",
       " 70: 70,\n",
       " 71: 71,\n",
       " 72: 72,\n",
       " 73: 73,\n",
       " 74: 74,\n",
       " 75: 75,\n",
       " 76: 76,\n",
       " 77: 77,\n",
       " 78: 78,\n",
       " 79: 79,\n",
       " 80: 80,\n",
       " 81: 81,\n",
       " 82: 82,\n",
       " 83: 83,\n",
       " 84: 84,\n",
       " 85: 85,\n",
       " 86: 86,\n",
       " 87: 87,\n",
       " 88: 88,\n",
       " 89: 89,\n",
       " 90: 90,\n",
       " 91: 91,\n",
       " 92: 92,\n",
       " 93: 93,\n",
       " 94: 94,\n",
       " 95: 95,\n",
       " 96: 96,\n",
       " 97: 97,\n",
       " 98: 98,\n",
       " 99: 99}"
      ]
     },
     "execution_count": 7,
     "metadata": {},
     "output_type": "execute_result"
    }
   ],
   "source": [
    "train_dataset.class_mapping"
   ]
  },
  {
   "cell_type": "code",
   "execution_count": 8,
   "id": "bc277c41",
   "metadata": {},
   "outputs": [
    {
     "name": "stdout",
     "output_type": "stream",
     "text": [
      "targets in dataloader [0 1 2 3 4 5 6 7 8]\n"
     ]
    }
   ],
   "source": [
    "train_dataset.load_dataset(t= 0, client=2)"
   ]
  },
  {
   "cell_type": "code",
   "execution_count": 9,
   "id": "a37cd4a6",
   "metadata": {},
   "outputs": [
    {
     "data": {
      "text/plain": [
       "array([0, 1, 2, 3, 4, 5, 6, 7, 8])"
      ]
     },
     "execution_count": 9,
     "metadata": {},
     "output_type": "execute_result"
    }
   ],
   "source": [
    "np.unique(train_dataset.targets)\n"
   ]
  },
  {
   "cell_type": "code",
   "execution_count": 10,
   "id": "65f05c13",
   "metadata": {},
   "outputs": [
    {
     "data": {
      "text/plain": [
       "(636, 32, 32, 3)"
      ]
     },
     "execution_count": 10,
     "metadata": {},
     "output_type": "execute_result"
    }
   ],
   "source": [
    "train_dataset.data.shape"
   ]
  },
  {
   "cell_type": "code",
   "execution_count": 12,
   "id": "a90b0493",
   "metadata": {},
   "outputs": [
    {
     "name": "stdout",
     "output_type": "stream",
     "text": [
      "0 12\n",
      "1 3\n",
      "2 8\n",
      "3 148\n",
      "4 14\n",
      "5 81\n",
      "6 36\n",
      "7 69\n",
      "8 265\n",
      "9 0\n"
     ]
    }
   ],
   "source": [
    "# print the number of images in each class\n",
    "for i in tasks[0]:\n",
    "    print(i, np.sum(train_dataset.targets == i))"
   ]
  },
  {
   "cell_type": "code",
   "execution_count": 13,
   "id": "05c301f0",
   "metadata": {},
   "outputs": [
    {
     "data": {
      "image/png": "[encoded data removed]",
      "text/plain": [
       "<Figure size 640x480 with 1 Axes>"
      ]
     },
     "metadata": {},
     "output_type": "display_data"
    }
   ],
   "source": [
    "# print histogram of the number of images in each class\n",
    "import matplotlib.pyplot as plt\n",
    "plt.hist(train_dataset.targets, bins=100)\n",
    "plt.show()\n"
   ]
  },
  {
   "cell_type": "code",
   "execution_count": 31,
   "id": "259c12b5",
   "metadata": {},
   "outputs": [
    {
     "name": "stdout",
     "output_type": "stream",
     "text": [
      "targets in dataloader [0 1 2 3 4 5 6 7 8 9]\n",
      "targets in dataloader [0 1 2 3 4 5 6 7 8 9]\n",
      "targets in dataloader [0 1 2 3 4 5 6 7 8]\n",
      "targets in dataloader [0 1 2 3 4 5 6 7 8]\n",
      "targets in dataloader [0 1 2 3 4 5 6 7 8]\n",
      "targets in dataloader [0 1 2 3 4 5 6 7]\n",
      "targets in dataloader [0 2 3 4 5 6 8 9]\n",
      "targets in dataloader [1 2 4 6 7 8 9]\n",
      "targets in dataloader [0 1 2 3 4 5 6]\n",
      "targets in dataloader [0 1 2 3 4 5 6 7 8]\n",
      "targets in dataloader [10 11 12 13 14]\n",
      "targets in dataloader [10 11 12 13 14 15 16 17]\n",
      "targets in dataloader [10 11 12 13 15]\n",
      "targets in dataloader [10 11 12]\n",
      "targets in dataloader [10 11 12 13 14 15 16 17 19]\n",
      "targets in dataloader [10 11 12 13 14 15 16 17 18 19]\n",
      "targets in dataloader [10 12 13 14 15 16 17 18 19]\n",
      "targets in dataloader [10 11 12 15 16 17 18]\n",
      "targets in dataloader [10 11 12 13 14 15 16 18 19]\n",
      "targets in dataloader [10 11 12 13 14 15 16 17 18 19]\n",
      "targets in dataloader [20 21 22 23 24 25 26 27 28 29]\n",
      "targets in dataloader [20 21 22 23 24 25 26 27 29]\n",
      "targets in dataloader [20 22 23 25]\n",
      "targets in dataloader [20 21 22 23 24 25 26 27 28 29]\n",
      "targets in dataloader [20 21 22 24 25 26 27 28 29]\n",
      "targets in dataloader [20 21 22 23 24 25 26 27 28 29]\n",
      "targets in dataloader [20 21 22 23 24 25 26 27 28]\n",
      "targets in dataloader [20 21 22 24 25 26 27 28 29]\n",
      "targets in dataloader [20 21 22 23 24 25 26 27]\n",
      "targets in dataloader [20 21 22 23 24 25 26 27 28 29]\n",
      "targets in dataloader [30 31 32 34]\n",
      "targets in dataloader [30 31 34 35 36 37 38 39]\n",
      "targets in dataloader [30 31 32 33 34 35 36 37 38 39]\n",
      "targets in dataloader [30 31 32 33 34 36 37 38]\n",
      "targets in dataloader [31 32 33 34 35 36]\n",
      "targets in dataloader [30 31 32 33 34 35 36 37]\n",
      "targets in dataloader [30 31 32 33 34 35]\n",
      "targets in dataloader [30 31 32 33 34 35 36 37 38]\n",
      "targets in dataloader [30 31 32 33 35 36 37 38 39]\n",
      "targets in dataloader [30 31 32 33 34 35 36 37 38 39]\n",
      "targets in dataloader [40 41 42 43 44 45 46 47 48]\n",
      "targets in dataloader [40 41 42 43 44 45 46 47 48 49]\n",
      "targets in dataloader [40 41 42 43 44 45]\n",
      "targets in dataloader [40 41 42 43 45 46 47 48 49]\n",
      "targets in dataloader [40 41 42 43 44 45 46 47 48]\n",
      "targets in dataloader [40 41 42 43 44 45 46 47 48 49]\n",
      "targets in dataloader [40 41 42 43 44 45 47 48 49]\n",
      "targets in dataloader [40 41 42 44 45 48 49]\n",
      "targets in dataloader [40 41 42 43 44 46 47]\n",
      "targets in dataloader [40 41 42 43 44 45 46 47 48 49]\n",
      "targets in dataloader [50 51 52 54 55 56 57 58 59]\n",
      "targets in dataloader [50 51 52 55 57 58 59]\n",
      "targets in dataloader [50 51 52 53 54 55 56 57]\n",
      "targets in dataloader [51 52 53 54 55 56 57 58]\n",
      "targets in dataloader [50 51 52 53 54 55 57 58 59]\n",
      "targets in dataloader [50 51 53 54 55]\n",
      "targets in dataloader [50 51 52 53 54]\n",
      "targets in dataloader [50 51 52 53 54 55 57]\n",
      "targets in dataloader [50 51 52 53 54 55 56 58 59]\n",
      "targets in dataloader [50 51 52 53 54 55 56 57 58]\n",
      "targets in dataloader [61 63 64 65 67 68 69]\n",
      "targets in dataloader [60 61 62 63 64 65 66 67 68]\n",
      "targets in dataloader [60 61 62 63 64 65 66 67 68]\n",
      "targets in dataloader [60 61 62 63]\n",
      "targets in dataloader [60 61 62 63 64 65 66 67 68]\n",
      "targets in dataloader [60 61 62 63 64 66 67 68 69]\n",
      "targets in dataloader [60 61 62 63 64 65 66 67 69]\n",
      "targets in dataloader [60 61 62 63 64 65 66 67 68 69]\n",
      "targets in dataloader [60 61 62]\n",
      "targets in dataloader [60 61 62 63 64 65 66 67 68 69]\n",
      "targets in dataloader [71 72 73 74 75 76 77 78 79]\n",
      "targets in dataloader [70 71 72 73 74 75 76 77 78]\n",
      "targets in dataloader [70 71 72 73 74]\n",
      "targets in dataloader [70 71 72 73 74 75 76 77 78]\n",
      "targets in dataloader [70 71 72 73 74 75 76 77 78]\n",
      "targets in dataloader [70 71 72 73 74 75 76 77 78 79]\n",
      "targets in dataloader [70 71 72 74 75 76]\n",
      "targets in dataloader [70 71 72 73 74 75 76 77 78]\n",
      "targets in dataloader [70 71 72 73 74 75 76 77 79]\n",
      "targets in dataloader [70 71 72 73 74 75 76 77 78 79]\n",
      "targets in dataloader [80 81 82 83 85 86 87 88]\n",
      "targets in dataloader [80 81 82 83 84]\n",
      "targets in dataloader [80 81 82 83 84 85 86 87 88]\n",
      "targets in dataloader [80 81 82 83 84 85 86 87 88 89]\n",
      "targets in dataloader [80 81 84 85 86 87 88]\n",
      "targets in dataloader [80 81 82 83 84 86 88 89]\n",
      "targets in dataloader [80 81 82 83 84]\n",
      "targets in dataloader [80 81 82 83 84 85 86 87 88 89]\n",
      "targets in dataloader [80 81 82 83 84 85 86 87 88]\n",
      "targets in dataloader [80 81 82 83 84 85 86 87 89]\n",
      "targets in dataloader [90 92 93 94 95 96 97 99]\n",
      "targets in dataloader [90 91 92 93 94 95 96 97]\n",
      "targets in dataloader [90 91 92 93 95 96 97 98 99]\n",
      "targets in dataloader [90 91 92 93]\n",
      "targets in dataloader [90 91 92 93 94 95 96 97]\n",
      "targets in dataloader [90 91 92 93 94 95]\n",
      "targets in dataloader [90 91 93 94 96 97 98 99]\n",
      "targets in dataloader [90 91 92 93 94 95 96 97 98 99]\n",
      "targets in dataloader [90 91 92 93 97 98 99]\n",
      "targets in dataloader [90 91 92 93 94 95 96 97 98 99]\n"
     ]
    },
    {
     "data": {
      "text/plain": [
       "<Figure size 640x480 with 0 Axes>"
      ]
     },
     "metadata": {},
     "output_type": "display_data"
    }
   ],
   "source": [
    "# subplot the images in each class for each client in the first task\n",
    "import matplotlib.pyplot as plt\n",
    "import numpy as np\n",
    "folder_path = './histograms'\n",
    "if not os.path.exists(folder_path):\n",
    "    os.makedirs(folder_path)\n",
    "for i in range(len(tasks)): # tasks \n",
    "\n",
    "    for j in range(10): # clients\n",
    "        train_dataset.load_dataset(t= i, client=j) \n",
    "        heights , edges , _ = plt.hist(train_dataset.targets, bins=100)\n",
    "        # title of the plot\n",
    "        plt.title('task: ' + str(i) + ' client: ' + str(j) + ' total_images: ' + str(len(train_dataset.targets)))\n",
    "        # x-axis label\n",
    "        plt.xlabel('class')\n",
    "        # y-axis label\n",
    "        plt.ylabel('number of images')\n",
    "        # save the figure for each client in the new folder called histogram\n",
    "        # plt.savefig('histogram/task_' + str(i) + '_client_' + str(j) + '.png')\n",
    "        # add the values of each bin on top of the bars\n",
    "        for ii in range(len(heights)):\n",
    "            if heights[ii] > 0:\n",
    "                plt.text(edges[ii] + (edges[ii+1]-edges[ii])/2, heights[ii], str(int(heights[ii])),\n",
    "                         ha='center', va='bottom')\n",
    "    \n",
    "        \n",
    "        file_path = os.path.join(folder_path, f'task_{i}_client{j}_histogram.png')\n",
    "        plt.savefig(file_path)\n",
    "\n",
    "        # clear the figure\n",
    "        plt.clf()\n"
   ]
  },
  {
   "cell_type": "code",
   "execution_count": 18,
   "id": "4497a9ad",
   "metadata": {},
   "outputs": [
    {
     "name": "stdout",
     "output_type": "stream",
     "text": [
      "targets in dataloader [0 1 2 3 4 5 6 7 8 9]\n"
     ]
    }
   ],
   "source": [
    "test_dataset.load_dataset(t = 0, client=-1)"
   ]
  },
  {
   "cell_type": "code",
   "execution_count": 19,
   "id": "11b0e400",
   "metadata": {},
   "outputs": [
    {
     "data": {
      "text/plain": [
       "array([0, 1, 2, 3, 4, 5, 6, 7, 8, 9])"
      ]
     },
     "execution_count": 19,
     "metadata": {},
     "output_type": "execute_result"
    }
   ],
   "source": [
    "np.unique(test_dataset.targets)"
   ]
  },
  {
   "cell_type": "code",
   "execution_count": 20,
   "id": "1e49114c",
   "metadata": {},
   "outputs": [
    {
     "data": {
      "text/plain": [
       "1000"
      ]
     },
     "execution_count": 20,
     "metadata": {},
     "output_type": "execute_result"
    }
   ],
   "source": [
    "len(test_dataset.targets)"
   ]
  },
  {
   "cell_type": "code",
   "execution_count": 36,
   "id": "7e0616aa",
   "metadata": {},
   "outputs": [
    {
     "data": {
      "text/plain": [
       "86"
      ]
     },
     "execution_count": 36,
     "metadata": {},
     "output_type": "execute_result"
    }
   ],
   "source": [
    "train_dataset.targets[0]"
   ]
  },
  {
   "cell_type": "code",
   "execution_count": 38,
   "id": "9f1dd44c",
   "metadata": {},
   "outputs": [],
   "source": [
    "import matplotlib.pyplot as plt"
   ]
  },
  {
   "cell_type": "code",
   "execution_count": 39,
   "id": "163d84e0",
   "metadata": {},
   "outputs": [
    {
     "data": {
      "text/plain": [
       "<matplotlib.image.AxesImage at 0x7fde0cf67c70>"
      ]
     },
     "execution_count": 39,
     "metadata": {},
     "output_type": "execute_result"
    },
    {
     "data": {
      "image/png": "[encoded data removed]",
      "text/plain": [
       "<Figure size 640x480 with 1 Axes>"
      ]
     },
     "metadata": {},
     "output_type": "display_data"
    }
   ],
   "source": [
    "plt.imshow(train_dataset.data[0])"
   ]
  },
  {
   "cell_type": "code",
   "execution_count": 40,
   "id": "ffe70af4",
   "metadata": {},
   "outputs": [
    {
     "data": {
      "text/plain": [
       "{'apple': 0,\n",
       " 'aquarium_fish': 1,\n",
       " 'baby': 2,\n",
       " 'bear': 3,\n",
       " 'beaver': 4,\n",
       " 'bed': 5,\n",
       " 'bee': 6,\n",
       " 'beetle': 7,\n",
       " 'bicycle': 8,\n",
       " 'bottle': 9,\n",
       " 'bowl': 10,\n",
       " 'boy': 11,\n",
       " 'bridge': 12,\n",
       " 'bus': 13,\n",
       " 'butterfly': 14,\n",
       " 'camel': 15,\n",
       " 'can': 16,\n",
       " 'castle': 17,\n",
       " 'caterpillar': 18,\n",
       " 'cattle': 19,\n",
       " 'chair': 20,\n",
       " 'chimpanzee': 21,\n",
       " 'clock': 22,\n",
       " 'cloud': 23,\n",
       " 'cockroach': 24,\n",
       " 'couch': 25,\n",
       " 'crab': 26,\n",
       " 'crocodile': 27,\n",
       " 'cup': 28,\n",
       " 'dinosaur': 29,\n",
       " 'dolphin': 30,\n",
       " 'elephant': 31,\n",
       " 'flatfish': 32,\n",
       " 'forest': 33,\n",
       " 'fox': 34,\n",
       " 'girl': 35,\n",
       " 'hamster': 36,\n",
       " 'house': 37,\n",
       " 'kangaroo': 38,\n",
       " 'keyboard': 39,\n",
       " 'lamp': 40,\n",
       " 'lawn_mower': 41,\n",
       " 'leopard': 42,\n",
       " 'lion': 43,\n",
       " 'lizard': 44,\n",
       " 'lobster': 45,\n",
       " 'man': 46,\n",
       " 'maple_tree': 47,\n",
       " 'motorcycle': 48,\n",
       " 'mountain': 49,\n",
       " 'mouse': 50,\n",
       " 'mushroom': 51,\n",
       " 'oak_tree': 52,\n",
       " 'orange': 53,\n",
       " 'orchid': 54,\n",
       " 'otter': 55,\n",
       " 'palm_tree': 56,\n",
       " 'pear': 57,\n",
       " 'pickup_truck': 58,\n",
       " 'pine_tree': 59,\n",
       " 'plain': 60,\n",
       " 'plate': 61,\n",
       " 'poppy': 62,\n",
       " 'porcupine': 63,\n",
       " 'possum': 64,\n",
       " 'rabbit': 65,\n",
       " 'raccoon': 66,\n",
       " 'ray': 67,\n",
       " 'road': 68,\n",
       " 'rocket': 69,\n",
       " 'rose': 70,\n",
       " 'sea': 71,\n",
       " 'seal': 72,\n",
       " 'shark': 73,\n",
       " 'shrew': 74,\n",
       " 'skunk': 75,\n",
       " 'skyscraper': 76,\n",
       " 'snail': 77,\n",
       " 'snake': 78,\n",
       " 'spider': 79,\n",
       " 'squirrel': 80,\n",
       " 'streetcar': 81,\n",
       " 'sunflower': 82,\n",
       " 'sweet_pepper': 83,\n",
       " 'table': 84,\n",
       " 'tank': 85,\n",
       " 'telephone': 86,\n",
       " 'television': 87,\n",
       " 'tiger': 88,\n",
       " 'tractor': 89,\n",
       " 'train': 90,\n",
       " 'trout': 91,\n",
       " 'tulip': 92,\n",
       " 'turtle': 93,\n",
       " 'wardrobe': 94,\n",
       " 'whale': 95,\n",
       " 'willow_tree': 96,\n",
       " 'wolf': 97,\n",
       " 'woman': 98,\n",
       " 'worm': 99}"
      ]
     },
     "execution_count": 40,
     "metadata": {},
     "output_type": "execute_result"
    }
   ],
   "source": [
    "train_dataset.class_to_idx"
   ]
  },
  {
   "cell_type": "code",
   "execution_count": 6,
   "id": "b9470737",
   "metadata": {},
   "outputs": [
    {
     "data": {
      "text/plain": [
       "50000"
      ]
     },
     "execution_count": 6,
     "metadata": {},
     "output_type": "execute_result"
    }
   ],
   "source": [
    "len(train_dataset.targets)"
   ]
  },
  {
   "cell_type": "code",
   "execution_count": 7,
   "id": "21090ae8",
   "metadata": {},
   "outputs": [
    {
     "name": "stdout",
     "output_type": "stream",
     "text": [
      "targets in dataloader [ 0  1 20 48 52 54 65 74 79 93]\n"
     ]
    }
   ],
   "source": [
    "train_dataset.load_dataset(t=0,client=0)"
   ]
  },
  {
   "cell_type": "code",
   "execution_count": 12,
   "id": "27f28601",
   "metadata": {},
   "outputs": [
    {
     "data": {
      "text/plain": [
       "[[20, 79, 93, 54, 52, 65, 0, 1, 48, 74],\n",
       " [44, 82, 35, 69, 91, 42, 33, 14, 5, 62],\n",
       " [32, 55, 96, 10, 21, 31, 90, 27, 28, 76],\n",
       " [80, 71, 66, 58, 23, 70, 60, 72, 17, 18],\n",
       " [45, 34, 11, 56, 84, 13, 41, 30, 24, 85],\n",
       " [51, 75, 37, 6, 53, 94, 95, 39, 47, 98],\n",
       " [36, 7, 50, 3, 63, 59, 9, 77, 64, 92],\n",
       " [86, 97, 61, 19, 25, 4, 16, 8, 46, 26],\n",
       " [2, 88, 29, 22, 87, 67, 68, 38, 83, 15],\n",
       " [12, 81, 43, 73, 78, 40, 99, 57, 89, 49]]"
      ]
     },
     "execution_count": 12,
     "metadata": {},
     "output_type": "execute_result"
    }
   ],
   "source": [
    "train_dataset.tasks"
   ]
  },
  {
   "cell_type": "code",
   "execution_count": 20,
   "id": "30aac9dd",
   "metadata": {},
   "outputs": [
    {
     "data": {
      "text/plain": [
       "[0, 1, 2, 3, 4, 5, 6, 7, 8, 9]"
      ]
     },
     "execution_count": 20,
     "metadata": {},
     "output_type": "execute_result"
    }
   ],
   "source": [
    "a = list(np.arange(0,10))\n",
    "a"
   ]
  },
  {
   "cell_type": "code",
   "execution_count": 23,
   "id": "3ced7561",
   "metadata": {},
   "outputs": [
    {
     "data": {
      "text/plain": [
       "array([  0,   1,   2,   3,   4,   5,   6,   7,   8,   9,  10,  11,  12,\n",
       "        13,  14,  15,  16,  17,  18,  19,  20,  21,  22,  23,  24,  25,\n",
       "        26,  27,  28,  29,  30,  31,  32,  33,  34,  35,  36,  37,  38,\n",
       "        39,  40,  41,  42,  43,  44,  45,  46,  47,  48,  49,  50,  51,\n",
       "        52,  53,  54,  55,  56,  57,  58,  59,  60,  61,  62,  63,  64,\n",
       "        65,  66,  67,  68,  69,  70,  71,  72,  73,  74,  75,  76,  77,\n",
       "        78,  79,  80,  81,  82,  83,  84,  85,  86,  87,  88,  89,  90,\n",
       "        91,  92,  93,  94,  95,  96,  97,  98,  99, 100, 101, 102, 103,\n",
       "       104, 105, 106, 107, 108, 109, 110, 111, 112, 113, 114, 115, 116,\n",
       "       117, 118, 119, 120, 121, 122, 123, 124, 125, 126, 127, 128, 129,\n",
       "       130, 131, 132, 133, 134, 135, 136, 137, 138, 139, 140, 141, 142,\n",
       "       143, 144, 145, 146, 147, 148, 149, 150, 151, 152, 153, 154, 155,\n",
       "       156, 157, 158, 159, 160, 161, 162, 163, 164, 165, 166, 167, 168,\n",
       "       169, 170, 171, 172, 173, 174, 175, 176, 177, 178, 179, 180, 181,\n",
       "       182, 183, 184, 185, 186, 187, 188, 189, 190, 191, 192, 193, 194,\n",
       "       195, 196, 197, 198, 199, 200, 201, 202, 203, 204, 205, 206, 207,\n",
       "       208, 209, 210, 211, 212, 213, 214, 215, 216, 217, 218, 219, 220,\n",
       "       221, 222, 223, 224, 225, 226, 227, 228, 229, 230, 231, 232, 233,\n",
       "       234, 235, 236, 237, 238, 239, 240, 241, 242, 243, 244, 245, 246,\n",
       "       247, 248, 249, 250, 251, 252, 253, 254, 255, 256, 257, 258, 259,\n",
       "       260, 261, 262, 263, 264, 265, 266, 267, 268, 269, 270, 271, 272,\n",
       "       273, 274, 275, 276, 277, 278, 279, 280, 281, 282, 283, 284, 285,\n",
       "       286, 287, 288, 289, 290, 291, 292, 293, 294, 295, 296, 297, 298,\n",
       "       299, 300, 301, 302, 303, 304, 305, 306, 307, 308, 309, 310, 311,\n",
       "       312, 313, 314, 315, 316, 317, 318, 319, 320, 321, 322, 323, 324,\n",
       "       325, 326, 327, 328, 329, 330, 331, 332, 333, 334, 335, 336, 337,\n",
       "       338, 339, 340, 341, 342, 343, 344, 345, 346, 347, 348, 349, 350,\n",
       "       351, 352, 353, 354, 355, 356, 357, 358, 359, 360, 361, 362, 363,\n",
       "       364, 365, 366, 367, 368, 369, 370, 371, 372, 373, 374, 375, 376,\n",
       "       377, 378, 379, 380, 381, 382, 383, 384, 385, 386, 387, 388, 389,\n",
       "       390, 391, 392, 393, 394, 395, 396, 397, 398, 399, 400, 401, 402,\n",
       "       403, 404, 405, 406, 407, 408, 409, 410, 411, 412, 413, 414, 415,\n",
       "       416, 417, 418, 419, 420, 421, 422, 423, 424, 425, 426, 427, 428,\n",
       "       429, 430, 431, 432, 433, 434, 435, 436, 437, 438, 439, 440, 441,\n",
       "       442, 443, 444, 445, 446, 447, 448, 449, 450, 451, 452, 453, 454,\n",
       "       455, 456, 457, 458, 459, 460, 461, 462, 463, 464, 465, 466, 467,\n",
       "       468, 469, 470, 471, 472, 473, 474, 475, 476, 477, 478, 479, 480,\n",
       "       481, 482, 483, 484, 485, 486, 487, 488, 489, 490, 491, 492, 493,\n",
       "       494, 495, 496, 497, 498, 499])"
      ]
     },
     "execution_count": 23,
     "metadata": {},
     "output_type": "execute_result"
    }
   ],
   "source": [
    "locs = np.isin(train_dataset.targets, train_dataset.tasks[0]).nonzero()[0]\n",
    "locs"
   ]
  },
  {
   "cell_type": "code",
   "execution_count": 22,
   "id": "d4a0729f",
   "metadata": {},
   "outputs": [
    {
     "data": {
      "text/plain": [
       "500"
      ]
     },
     "execution_count": 22,
     "metadata": {},
     "output_type": "execute_result"
    }
   ],
   "source": [
    "len(locs)"
   ]
  },
  {
   "cell_type": "code",
   "execution_count": 24,
   "id": "c97730a6",
   "metadata": {},
   "outputs": [],
   "source": [
    "train_dataset_1 = torch.utils.data.Subset(train_dataset, locs[:int(len(train_dataset.targets)/2)])"
   ]
  },
  {
   "cell_type": "code",
   "execution_count": 32,
   "id": "1d8245b4",
   "metadata": {},
   "outputs": [],
   "source": [
    "t_loader = torch.utils.data.DataLoader(train_dataset_1,batch_size = 10)"
   ]
  },
  {
   "cell_type": "code",
   "execution_count": 34,
   "id": "06fd5deb",
   "metadata": {},
   "outputs": [
    {
     "data": {
      "text/plain": [
       "250"
      ]
     },
     "execution_count": 34,
     "metadata": {},
     "output_type": "execute_result"
    }
   ],
   "source": [
    "len(t_loader) * 10"
   ]
  },
  {
   "cell_type": "code",
   "execution_count": 36,
   "id": "e8871063",
   "metadata": {},
   "outputs": [
    {
     "data": {
      "text/plain": [
       "array([[[[250, 250, 248],\n",
       "         [248, 249, 243],\n",
       "         [247, 248, 239],\n",
       "         ...,\n",
       "         [250, 250, 246],\n",
       "         [250, 250, 246],\n",
       "         [249, 250, 246]],\n",
       "\n",
       "        [[250, 251, 245],\n",
       "         [248, 249, 238],\n",
       "         [247, 247, 234],\n",
       "         ...,\n",
       "         [251, 251, 242],\n",
       "         [251, 252, 243],\n",
       "         [250, 251, 243]],\n",
       "\n",
       "        [[251, 251, 244],\n",
       "         [250, 248, 237],\n",
       "         [250, 245, 233],\n",
       "         ...,\n",
       "         [250, 249, 238],\n",
       "         [250, 249, 240],\n",
       "         [250, 249, 242]],\n",
       "\n",
       "        ...,\n",
       "\n",
       "        [[221, 213, 191],\n",
       "         [221, 206, 176],\n",
       "         [225, 207, 181],\n",
       "         ...,\n",
       "         [199, 176, 134],\n",
       "         [207, 193, 165],\n",
       "         [233, 229, 226]],\n",
       "\n",
       "        [[225, 223, 204],\n",
       "         [227, 219, 196],\n",
       "         [229, 216, 200],\n",
       "         ...,\n",
       "         [204, 185, 151],\n",
       "         [212, 201, 180],\n",
       "         [234, 232, 228]],\n",
       "\n",
       "        [[233, 233, 226],\n",
       "         [234, 232, 224],\n",
       "         [235, 230, 225],\n",
       "         ...,\n",
       "         [219, 209, 194],\n",
       "         [223, 216, 207],\n",
       "         [232, 230, 228]]],\n",
       "\n",
       "\n",
       "       [[[ 43,  49,  46],\n",
       "         [ 32,  40,  34],\n",
       "         [ 87,  89,  47],\n",
       "         ...,\n",
       "         [ 74,  84,  48],\n",
       "         [ 43,  51,  30],\n",
       "         [ 39,  45,  33]],\n",
       "\n",
       "        [[ 44,  47,  51],\n",
       "         [ 38,  42,  42],\n",
       "         [ 59,  61,  32],\n",
       "         ...,\n",
       "         [ 66,  74,  47],\n",
       "         [ 40,  47,  31],\n",
       "         [ 40,  46,  34]],\n",
       "\n",
       "        [[ 45,  45,  50],\n",
       "         [ 43,  43,  44],\n",
       "         [ 44,  47,  30],\n",
       "         ...,\n",
       "         [ 51,  58,  40],\n",
       "         [ 40,  46,  34],\n",
       "         [ 43,  49,  37]],\n",
       "\n",
       "        ...,\n",
       "\n",
       "        [[ 51,  50,  31],\n",
       "         [ 56,  51,  33],\n",
       "         [ 72,  64,  45],\n",
       "         ...,\n",
       "         [109,  94,  43],\n",
       "         [160, 154,  90],\n",
       "         [125, 120,  62]],\n",
       "\n",
       "        [[ 80,  77,  45],\n",
       "         [ 68,  62,  33],\n",
       "         [ 78,  69,  42],\n",
       "         ...,\n",
       "         [101,  92,  54],\n",
       "         [ 82,  79,  36],\n",
       "         [ 75,  76,  32]],\n",
       "\n",
       "        [[109, 102,  57],\n",
       "         [ 92,  84,  47],\n",
       "         [108,  99,  67],\n",
       "         ...,\n",
       "         [ 93,  88,  60],\n",
       "         [ 55,  55,  29],\n",
       "         [ 63,  67,  37]]],\n",
       "\n",
       "\n",
       "       [[[156, 153, 147],\n",
       "         [151, 151, 143],\n",
       "         [158, 157, 152],\n",
       "         ...,\n",
       "         [145, 143, 130],\n",
       "         [145, 142, 134],\n",
       "         [146, 144, 137]],\n",
       "\n",
       "        [[150, 148, 139],\n",
       "         [150, 150, 139],\n",
       "         [156, 155, 150],\n",
       "         ...,\n",
       "         [142, 141, 124],\n",
       "         [147, 144, 134],\n",
       "         [148, 148, 142]],\n",
       "\n",
       "        [[145, 143, 134],\n",
       "         [155, 154, 147],\n",
       "         [157, 156, 151],\n",
       "         ...,\n",
       "         [143, 142, 125],\n",
       "         [153, 151, 139],\n",
       "         [152, 150, 145]],\n",
       "\n",
       "        ...,\n",
       "\n",
       "        [[139, 137, 125],\n",
       "         [151, 150, 138],\n",
       "         [150, 145, 134],\n",
       "         ...,\n",
       "         [154, 146, 129],\n",
       "         [157, 150, 141],\n",
       "         [160, 157, 151]],\n",
       "\n",
       "        [[145, 140, 125],\n",
       "         [149, 149, 138],\n",
       "         [148, 143, 130],\n",
       "         ...,\n",
       "         [153, 144, 132],\n",
       "         [155, 149, 138],\n",
       "         [160, 156, 150]],\n",
       "\n",
       "        [[150, 146, 132],\n",
       "         [145, 144, 132],\n",
       "         [150, 147, 133],\n",
       "         ...,\n",
       "         [160, 150, 143],\n",
       "         [157, 151, 139],\n",
       "         [148, 144, 132]]],\n",
       "\n",
       "\n",
       "       ...,\n",
       "\n",
       "\n",
       "       [[[159, 213, 251],\n",
       "         [163, 217, 255],\n",
       "         [163, 216, 252],\n",
       "         ...,\n",
       "         [183, 225, 249],\n",
       "         [172, 217, 243],\n",
       "         [166, 212, 239]],\n",
       "\n",
       "        [[163, 213, 247],\n",
       "         [168, 217, 250],\n",
       "         [168, 215, 247],\n",
       "         ...,\n",
       "         [185, 222, 246],\n",
       "         [161, 201, 227],\n",
       "         [126, 168, 198]],\n",
       "\n",
       "        [[171, 217, 247],\n",
       "         [175, 221, 251],\n",
       "         [175, 219, 247],\n",
       "         ...,\n",
       "         [198, 230, 253],\n",
       "         [191, 222, 245],\n",
       "         [148, 178, 203]],\n",
       "\n",
       "        ...,\n",
       "\n",
       "        [[ 68,  72,  72],\n",
       "         [ 64,  68,  69],\n",
       "         [ 51,  55,  58],\n",
       "         ...,\n",
       "         [143, 141, 103],\n",
       "         [149, 147, 107],\n",
       "         [147, 145, 105]],\n",
       "\n",
       "        [[ 55,  60,  55],\n",
       "         [ 53,  57,  55],\n",
       "         [ 42,  46,  46],\n",
       "         ...,\n",
       "         [149, 143, 107],\n",
       "         [147, 141, 105],\n",
       "         [143, 137, 102]],\n",
       "\n",
       "        [[ 51,  56,  55],\n",
       "         [ 42,  47,  45],\n",
       "         [ 40,  44,  42],\n",
       "         ...,\n",
       "         [135, 131,  97],\n",
       "         [135, 131,  99],\n",
       "         [135, 131, 101]]],\n",
       "\n",
       "\n",
       "       [[[244, 244, 244],\n",
       "         [239, 239, 239],\n",
       "         [241, 241, 241],\n",
       "         ...,\n",
       "         [237, 237, 237],\n",
       "         [237, 237, 237],\n",
       "         [236, 236, 236]],\n",
       "\n",
       "        [[243, 243, 243],\n",
       "         [239, 239, 239],\n",
       "         [241, 241, 241],\n",
       "         ...,\n",
       "         [237, 237, 237],\n",
       "         [237, 237, 237],\n",
       "         [236, 236, 236]],\n",
       "\n",
       "        [[245, 245, 245],\n",
       "         [241, 241, 241],\n",
       "         [242, 242, 242],\n",
       "         ...,\n",
       "         [238, 238, 238],\n",
       "         [238, 238, 238],\n",
       "         [237, 237, 237]],\n",
       "\n",
       "        ...,\n",
       "\n",
       "        [[245, 245, 245],\n",
       "         [242, 242, 242],\n",
       "         [243, 243, 243],\n",
       "         ...,\n",
       "         [232, 232, 231],\n",
       "         [232, 232, 231],\n",
       "         [231, 231, 230]],\n",
       "\n",
       "        [[242, 242, 242],\n",
       "         [240, 240, 240],\n",
       "         [241, 241, 241],\n",
       "         ...,\n",
       "         [237, 237, 237],\n",
       "         [236, 236, 236],\n",
       "         [234, 234, 234]],\n",
       "\n",
       "        [[243, 243, 243],\n",
       "         [241, 241, 241],\n",
       "         [242, 242, 242],\n",
       "         ...,\n",
       "         [240, 239, 242],\n",
       "         [238, 238, 240],\n",
       "         [238, 237, 240]]],\n",
       "\n",
       "\n",
       "       [[[255, 255, 255],\n",
       "         [255, 255, 255],\n",
       "         [255, 255, 255],\n",
       "         ...,\n",
       "         [255, 255, 255],\n",
       "         [255, 255, 255],\n",
       "         [255, 255, 255]],\n",
       "\n",
       "        [[255, 255, 255],\n",
       "         [253, 253, 253],\n",
       "         [253, 253, 253],\n",
       "         ...,\n",
       "         [252, 252, 247],\n",
       "         [251, 254, 251],\n",
       "         [254, 253, 254]],\n",
       "\n",
       "        [[255, 255, 255],\n",
       "         [254, 254, 254],\n",
       "         [254, 254, 254],\n",
       "         ...,\n",
       "         [208, 196, 192],\n",
       "         [255, 255, 254],\n",
       "         [252, 253, 254]],\n",
       "\n",
       "        ...,\n",
       "\n",
       "        [[255, 255, 255],\n",
       "         [255, 255, 255],\n",
       "         [255, 255, 255],\n",
       "         ...,\n",
       "         [253, 253, 253],\n",
       "         [254, 255, 255],\n",
       "         [255, 255, 255]],\n",
       "\n",
       "        [[255, 255, 255],\n",
       "         [255, 255, 255],\n",
       "         [255, 255, 255],\n",
       "         ...,\n",
       "         [254, 254, 254],\n",
       "         [255, 255, 255],\n",
       "         [255, 255, 255]],\n",
       "\n",
       "        [[255, 255, 255],\n",
       "         [255, 255, 255],\n",
       "         [255, 255, 255],\n",
       "         ...,\n",
       "         [255, 255, 255],\n",
       "         [255, 255, 255],\n",
       "         [255, 255, 255]]]], dtype=uint8)"
      ]
     },
     "execution_count": 36,
     "metadata": {},
     "output_type": "execute_result"
    }
   ],
   "source": [
    "train_dataset_1.dataset.data"
   ]
  },
  {
   "cell_type": "code",
   "execution_count": 37,
   "id": "fa48ee10",
   "metadata": {},
   "outputs": [
    {
     "data": {
      "text/plain": [
       "3"
      ]
     },
     "execution_count": 37,
     "metadata": {},
     "output_type": "execute_result"
    }
   ],
   "source": [
    "500//128"
   ]
  },
  {
   "cell_type": "code",
   "execution_count": 41,
   "id": "28d6d5fd",
   "metadata": {},
   "outputs": [
    {
     "data": {
      "text/plain": [
       "7.8125"
      ]
     },
     "execution_count": 41,
     "metadata": {},
     "output_type": "execute_result"
    }
   ],
   "source": [
    "500/64\n"
   ]
  },
  {
   "cell_type": "code",
   "execution_count": null,
   "id": "74c96223",
   "metadata": {},
   "outputs": [],
   "source": []
  }
 ],
 "metadata": {
  "kernelspec": {
   "display_name": "promptFCL",
   "language": "python",
   "name": "python3"
  },
  "language_info": {
   "codemirror_mode": {
    "name": "ipython",
    "version": 3
   },
   "file_extension": ".py",
   "mimetype": "text/x-python",
   "name": "python",
   "nbconvert_exporter": "python",
   "pygments_lexer": "ipython3",
   "version": "3.10.9"
  },
  "vscode": {
   "interpreter": {
    "hash": "706466e2cd6ba47dc72a23aff5b4b412fa3e343d00dce46686a6ac93eab9d9be"
   }
  }
 },
 "nbformat": 4,
 "nbformat_minor": 5
}
